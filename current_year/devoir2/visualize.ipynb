{
 "metadata": {
  "name": "",
  "signature": "sha256:e871c0c8dfbb2cf6e7925965f714bbb27caf9b5639c124399d15ec4012698ff4"
 },
 "nbformat": 3,
 "nbformat_minor": 0,
 "worksheets": []
}