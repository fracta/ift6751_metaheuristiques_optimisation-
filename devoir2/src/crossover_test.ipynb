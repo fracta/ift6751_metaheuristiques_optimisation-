{
 "metadata": {
  "name": "",
  "signature": "sha256:365f45db4855459ed8cc6cc0cbecbb98b38f9d19d2754b6d4c2c82c5b84d12e3"
 },
 "nbformat": 3,
 "nbformat_minor": 0,
 "worksheets": [
  {
   "cells": [
    {
     "cell_type": "code",
     "collapsed": false,
     "input": [
      "%pylab inline\n",
      "import pyximport\n",
      "pyximport.install(reload_support=True)"
     ],
     "language": "python",
     "metadata": {},
     "outputs": [
      {
       "output_type": "stream",
       "stream": "stdout",
       "text": [
        "Populating the interactive namespace from numpy and matplotlib\n"
       ]
      },
      {
       "metadata": {},
       "output_type": "pyout",
       "prompt_number": 1,
       "text": [
        "(None, <pyximport.pyximport.PyxImporter at 0x7f4c4a78c610>)"
       ]
      }
     ],
     "prompt_number": 1
    },
    {
     "cell_type": "code",
     "collapsed": false,
     "input": [
      "import benchmark\n",
      "import clark_wright\n",
      "import cvrp\n",
      "import ga_solver\n",
      "import solution"
     ],
     "language": "python",
     "metadata": {},
     "outputs": [],
     "prompt_number": 2
    },
    {
     "cell_type": "code",
     "collapsed": false,
     "input": [
      "data = cvrp.read_vrp(\"../lit_instances/vrpnc5.txt\")\n",
      "prob = cvrp.CVRPProblem(data)\n",
      "prob"
     ],
     "language": "python",
     "metadata": {},
     "outputs": [
      {
       "metadata": {},
       "output_type": "pyout",
       "prompt_number": 7,
       "text": [
        "\n",
        "Constrained Vehicule Routing Problem (CVRP)\n",
        "199 clients, Q = 200.0"
       ]
      }
     ],
     "prompt_number": 7
    },
    {
     "cell_type": "code",
     "collapsed": false,
     "input": [
      "%time final_population, best_individuals = ga_solver.solve(prob, 100, 100, 7, k=10)"
     ],
     "language": "python",
     "metadata": {},
     "outputs": [
      {
       "output_type": "stream",
       "stream": "stdout",
       "text": [
        "\r",
        "[-------------------------] 0% Random Savings Initialization"
       ]
      },
      {
       "output_type": "stream",
       "stream": "stdout",
       "text": [
        "\r",
        "[-------------------------] 1% Random Savings Initialization"
       ]
      },
      {
       "output_type": "stream",
       "stream": "stdout",
       "text": [
        "\r",
        "[#------------------------] 2% Random Savings Initialization"
       ]
      },
      {
       "output_type": "stream",
       "stream": "stdout",
       "text": [
        "\r",
        "[#------------------------] 3% Random Savings Initialization"
       ]
      },
      {
       "output_type": "stream",
       "stream": "stdout",
       "text": [
        "\r",
        "[#------------------------] 4% Random Savings Initialization"
       ]
      },
      {
       "output_type": "stream",
       "stream": "stdout",
       "text": [
        "\r",
        "[#------------------------] 5% Random Savings Initialization"
       ]
      },
      {
       "output_type": "stream",
       "stream": "stdout",
       "text": [
        "\r",
        "[##-----------------------] 6% Random Savings Initialization"
       ]
      },
      {
       "output_type": "stream",
       "stream": "stdout",
       "text": [
        "\r",
        "[##-----------------------] 7% Random Savings Initialization"
       ]
      },
      {
       "output_type": "stream",
       "stream": "stdout",
       "text": [
        "\r",
        "[##-----------------------] 8% Random Savings Initialization"
       ]
      },
      {
       "output_type": "stream",
       "stream": "stdout",
       "text": [
        "\r",
        "[##-----------------------] 9% Random Savings Initialization"
       ]
      },
      {
       "output_type": "stream",
       "stream": "stdout",
       "text": [
        "\r",
        "[###----------------------] 10% Random Savings Initialization"
       ]
      },
      {
       "output_type": "stream",
       "stream": "stdout",
       "text": [
        "\r",
        "[###----------------------] 11% Random Savings Initialization"
       ]
      },
      {
       "output_type": "stream",
       "stream": "stdout",
       "text": [
        "\r",
        "[###----------------------] 12% Random Savings Initialization"
       ]
      },
      {
       "output_type": "stream",
       "stream": "stdout",
       "text": [
        "\r",
        "[###----------------------] 13% Random Savings Initialization"
       ]
      },
      {
       "output_type": "stream",
       "stream": "stdout",
       "text": [
        "\r",
        "[####---------------------] 14% Random Savings Initialization"
       ]
      },
      {
       "output_type": "stream",
       "stream": "stdout",
       "text": [
        "\r",
        "[####---------------------] 15% Random Savings Initialization"
       ]
      },
      {
       "output_type": "stream",
       "stream": "stdout",
       "text": [
        "\r",
        "[####---------------------] 16% Random Savings Initialization"
       ]
      },
      {
       "output_type": "stream",
       "stream": "stdout",
       "text": [
        "\r",
        "[####---------------------] 17% Random Savings Initialization"
       ]
      },
      {
       "output_type": "stream",
       "stream": "stdout",
       "text": [
        "\r",
        "[#####--------------------] 18% Random Savings Initialization"
       ]
      },
      {
       "output_type": "stream",
       "stream": "stdout",
       "text": [
        "\r",
        "[#####--------------------] 19% Random Savings Initialization"
       ]
      },
      {
       "output_type": "stream",
       "stream": "stdout",
       "text": [
        "\r",
        "[#####--------------------] 20% Random Savings Initialization"
       ]
      },
      {
       "output_type": "stream",
       "stream": "stdout",
       "text": [
        "\r",
        "[#####--------------------] 21% Random Savings Initialization"
       ]
      },
      {
       "output_type": "stream",
       "stream": "stdout",
       "text": [
        "\r",
        "[######-------------------] 22% Random Savings Initialization"
       ]
      },
      {
       "output_type": "stream",
       "stream": "stdout",
       "text": [
        "\r",
        "[######-------------------] 23% Random Savings Initialization"
       ]
      },
      {
       "output_type": "stream",
       "stream": "stdout",
       "text": [
        "\r",
        "[######-------------------] 24% Random Savings Initialization"
       ]
      },
      {
       "output_type": "stream",
       "stream": "stdout",
       "text": [
        "\r",
        "[######-------------------] 26% Random Savings Initialization"
       ]
      },
      {
       "output_type": "stream",
       "stream": "stdout",
       "text": [
        "\r",
        "[#######------------------] 27% Random Savings Initialization"
       ]
      },
      {
       "output_type": "stream",
       "stream": "stdout",
       "text": [
        "\r",
        "[#######------------------] 28% Random Savings Initialization"
       ]
      },
      {
       "output_type": "stream",
       "stream": "stdout",
       "text": [
        "\r",
        "[#######------------------] 29% Random Savings Initialization"
       ]
      },
      {
       "output_type": "stream",
       "stream": "stdout",
       "text": [
        "\r",
        "[#######------------------] 30% Random Savings Initialization"
       ]
      },
      {
       "output_type": "stream",
       "stream": "stdout",
       "text": [
        "\r",
        "[########-----------------] 31% Random Savings Initialization"
       ]
      },
      {
       "output_type": "stream",
       "stream": "stdout",
       "text": [
        "\r",
        "[########-----------------] 32% Random Savings Initialization"
       ]
      },
      {
       "output_type": "stream",
       "stream": "stdout",
       "text": [
        "\r",
        "[########-----------------] 33% Random Savings Initialization"
       ]
      },
      {
       "output_type": "stream",
       "stream": "stdout",
       "text": [
        "\r",
        "[########-----------------] 34% Random Savings Initialization"
       ]
      },
      {
       "output_type": "stream",
       "stream": "stdout",
       "text": [
        "\r",
        "[#########----------------] 35% Random Savings Initialization"
       ]
      },
      {
       "output_type": "stream",
       "stream": "stdout",
       "text": [
        "\r",
        "[#########----------------] 36% Random Savings Initialization"
       ]
      },
      {
       "output_type": "stream",
       "stream": "stdout",
       "text": [
        "\r",
        "[#########----------------] 37% Random Savings Initialization"
       ]
      },
      {
       "output_type": "stream",
       "stream": "stdout",
       "text": [
        "\r",
        "[#########----------------] 38% Random Savings Initialization"
       ]
      },
      {
       "output_type": "stream",
       "stream": "stdout",
       "text": [
        "\r",
        "[##########---------------] 39% Random Savings Initialization"
       ]
      },
      {
       "output_type": "stream",
       "stream": "stdout",
       "text": [
        "\r",
        "[##########---------------] 40% Random Savings Initialization"
       ]
      },
      {
       "output_type": "stream",
       "stream": "stdout",
       "text": [
        "\r",
        "[##########---------------] 41% Random Savings Initialization"
       ]
      },
      {
       "output_type": "stream",
       "stream": "stdout",
       "text": [
        "\r",
        "[##########---------------] 42% Random Savings Initialization"
       ]
      },
      {
       "output_type": "stream",
       "stream": "stdout",
       "text": [
        "\r",
        "[###########--------------] 43% Random Savings Initialization"
       ]
      },
      {
       "output_type": "stream",
       "stream": "stdout",
       "text": [
        "\r",
        "[###########--------------] 44% Random Savings Initialization"
       ]
      },
      {
       "output_type": "stream",
       "stream": "stdout",
       "text": [
        "\r",
        "[###########--------------] 45% Random Savings Initialization"
       ]
      },
      {
       "output_type": "stream",
       "stream": "stdout",
       "text": [
        "\r",
        "[###########--------------] 46% Random Savings Initialization"
       ]
      },
      {
       "output_type": "stream",
       "stream": "stdout",
       "text": [
        "\r",
        "[############-------------] 47% Random Savings Initialization"
       ]
      },
      {
       "output_type": "stream",
       "stream": "stdout",
       "text": [
        "\r",
        "[############-------------] 48% Random Savings Initialization"
       ]
      },
      {
       "output_type": "stream",
       "stream": "stdout",
       "text": [
        "\r",
        "[############-------------] 49% Random Savings Initialization"
       ]
      },
      {
       "output_type": "stream",
       "stream": "stdout",
       "text": [
        "\r",
        "[#############------------] 50% Random Savings Initialization"
       ]
      },
      {
       "output_type": "stream",
       "stream": "stdout",
       "text": [
        "\r",
        "[#############------------] 51% Random Savings Initialization"
       ]
      },
      {
       "output_type": "stream",
       "stream": "stdout",
       "text": [
        "\r",
        "[#############------------] 52% Random Savings Initialization"
       ]
      },
      {
       "output_type": "stream",
       "stream": "stdout",
       "text": [
        "\r",
        "[#############------------] 53% Random Savings Initialization"
       ]
      },
      {
       "output_type": "stream",
       "stream": "stdout",
       "text": [
        "\r",
        "[##############-----------] 54% Random Savings Initialization"
       ]
      },
      {
       "output_type": "stream",
       "stream": "stdout",
       "text": [
        "\r",
        "[##############-----------] 55% Random Savings Initialization"
       ]
      },
      {
       "output_type": "stream",
       "stream": "stdout",
       "text": [
        "\r",
        "[##############-----------] 56% Random Savings Initialization"
       ]
      },
      {
       "output_type": "stream",
       "stream": "stdout",
       "text": [
        "\r",
        "[##############-----------] 57% Random Savings Initialization"
       ]
      },
      {
       "output_type": "stream",
       "stream": "stdout",
       "text": [
        "\r",
        "[###############----------] 58% Random Savings Initialization"
       ]
      },
      {
       "output_type": "stream",
       "stream": "stdout",
       "text": [
        "\r",
        "[###############----------] 59% Random Savings Initialization"
       ]
      },
      {
       "output_type": "stream",
       "stream": "stdout",
       "text": [
        "\r",
        "[###############----------] 60% Random Savings Initialization"
       ]
      },
      {
       "output_type": "stream",
       "stream": "stdout",
       "text": [
        "\r",
        "[###############----------] 61% Random Savings Initialization"
       ]
      },
      {
       "output_type": "stream",
       "stream": "stdout",
       "text": [
        "\r",
        "[################---------] 62% Random Savings Initialization"
       ]
      },
      {
       "output_type": "stream",
       "stream": "stdout",
       "text": [
        "\r",
        "[################---------] 63% Random Savings Initialization"
       ]
      },
      {
       "output_type": "stream",
       "stream": "stdout",
       "text": [
        "\r",
        "[################---------] 64% Random Savings Initialization"
       ]
      },
      {
       "output_type": "stream",
       "stream": "stdout",
       "text": [
        "\r",
        "[################---------] 65% Random Savings Initialization"
       ]
      },
      {
       "output_type": "stream",
       "stream": "stdout",
       "text": [
        "\r",
        "[#################--------] 66% Random Savings Initialization"
       ]
      },
      {
       "output_type": "stream",
       "stream": "stdout",
       "text": [
        "\r",
        "[#################--------] 67% Random Savings Initialization"
       ]
      },
      {
       "output_type": "stream",
       "stream": "stdout",
       "text": [
        "\r",
        "[#################--------] 68% Random Savings Initialization"
       ]
      },
      {
       "output_type": "stream",
       "stream": "stdout",
       "text": [
        "\r",
        "[#################--------] 69% Random Savings Initialization"
       ]
      },
      {
       "output_type": "stream",
       "stream": "stdout",
       "text": [
        "\r",
        "[##################-------] 70% Random Savings Initialization"
       ]
      },
      {
       "output_type": "stream",
       "stream": "stdout",
       "text": [
        "\r",
        "[##################-------] 71% Random Savings Initialization"
       ]
      },
      {
       "output_type": "stream",
       "stream": "stdout",
       "text": [
        "\r",
        "[##################-------] 72% Random Savings Initialization"
       ]
      },
      {
       "output_type": "stream",
       "stream": "stdout",
       "text": [
        "\r",
        "[##################-------] 73% Random Savings Initialization"
       ]
      },
      {
       "output_type": "stream",
       "stream": "stdout",
       "text": [
        "\r",
        "[###################------] 74% Random Savings Initialization"
       ]
      },
      {
       "output_type": "stream",
       "stream": "stdout",
       "text": [
        "\r",
        "[###################------] 76% Random Savings Initialization"
       ]
      },
      {
       "output_type": "stream",
       "stream": "stdout",
       "text": [
        "\r",
        "[###################------] 77% Random Savings Initialization"
       ]
      },
      {
       "output_type": "stream",
       "stream": "stdout",
       "text": [
        "\r",
        "[###################------] 78% Random Savings Initialization"
       ]
      },
      {
       "output_type": "stream",
       "stream": "stdout",
       "text": [
        "\r",
        "[####################-----] 79% Random Savings Initialization"
       ]
      },
      {
       "output_type": "stream",
       "stream": "stdout",
       "text": [
        "\r",
        "[####################-----] 80% Random Savings Initialization"
       ]
      },
      {
       "output_type": "stream",
       "stream": "stdout",
       "text": [
        "\r",
        "[####################-----] 81% Random Savings Initialization"
       ]
      },
      {
       "output_type": "stream",
       "stream": "stdout",
       "text": [
        "\r",
        "[####################-----] 82% Random Savings Initialization"
       ]
      },
      {
       "output_type": "stream",
       "stream": "stdout",
       "text": [
        "\r",
        "[#####################----] 83% Random Savings Initialization"
       ]
      },
      {
       "output_type": "stream",
       "stream": "stdout",
       "text": [
        "\r",
        "[#####################----] 84% Random Savings Initialization"
       ]
      },
      {
       "output_type": "stream",
       "stream": "stdout",
       "text": [
        "\r",
        "[#####################----] 85% Random Savings Initialization"
       ]
      },
      {
       "output_type": "stream",
       "stream": "stdout",
       "text": [
        "\r",
        "[#####################----] 86% Random Savings Initialization"
       ]
      },
      {
       "output_type": "stream",
       "stream": "stdout",
       "text": [
        "\r",
        "[######################---] 87% Random Savings Initialization"
       ]
      },
      {
       "output_type": "stream",
       "stream": "stdout",
       "text": [
        "\r",
        "[######################---] 88% Random Savings Initialization"
       ]
      },
      {
       "output_type": "stream",
       "stream": "stdout",
       "text": [
        "\r",
        "[######################---] 89% Random Savings Initialization"
       ]
      },
      {
       "output_type": "stream",
       "stream": "stdout",
       "text": [
        "\r",
        "[######################---] 90% Random Savings Initialization"
       ]
      },
      {
       "output_type": "stream",
       "stream": "stdout",
       "text": [
        "\r",
        "[#######################--] 91% Random Savings Initialization"
       ]
      },
      {
       "output_type": "stream",
       "stream": "stdout",
       "text": [
        "\r",
        "[#######################--] 92% Random Savings Initialization"
       ]
      },
      {
       "output_type": "stream",
       "stream": "stdout",
       "text": [
        "\r",
        "[#######################--] 93% Random Savings Initialization"
       ]
      },
      {
       "output_type": "stream",
       "stream": "stdout",
       "text": [
        "\r",
        "[#######################--] 94% Random Savings Initialization"
       ]
      },
      {
       "output_type": "stream",
       "stream": "stdout",
       "text": [
        "\r",
        "[########################-] 95% Random Savings Initialization"
       ]
      },
      {
       "output_type": "stream",
       "stream": "stdout",
       "text": [
        "\r",
        "[########################-] 96% Random Savings Initialization"
       ]
      },
      {
       "output_type": "stream",
       "stream": "stdout",
       "text": [
        "\r",
        "[########################-] 97% Random Savings Initialization"
       ]
      },
      {
       "output_type": "stream",
       "stream": "stdout",
       "text": [
        "\r",
        "[########################-] 98% Random Savings Initialization"
       ]
      },
      {
       "output_type": "stream",
       "stream": "stdout",
       "text": [
        "\r",
        "[#########################] 99% Random Savings Initialization"
       ]
      },
      {
       "output_type": "stream",
       "stream": "stdout",
       "text": [
        "\r",
        "[#########################] 100% Random Savings Initialization"
       ]
      },
      {
       "output_type": "stream",
       "stream": "stdout",
       "text": [
        "\n"
       ]
      },
      {
       "output_type": "stream",
       "stream": "stdout",
       "text": [
        "\r",
        "[-------------------------] 1% Main loop"
       ]
      },
      {
       "output_type": "stream",
       "stream": "stdout",
       "text": [
        "\r",
        "[#------------------------] 2% Main loop"
       ]
      },
      {
       "output_type": "stream",
       "stream": "stdout",
       "text": [
        "\r",
        "[#------------------------] 3% Main loop"
       ]
      },
      {
       "output_type": "stream",
       "stream": "stdout",
       "text": [
        "\r",
        "[#------------------------] 4% Main loop"
       ]
      },
      {
       "output_type": "stream",
       "stream": "stdout",
       "text": [
        "\r",
        "[#------------------------] 5% Main loop"
       ]
      },
      {
       "output_type": "stream",
       "stream": "stdout",
       "text": [
        "\r",
        "[##-----------------------] 6% Main loop"
       ]
      },
      {
       "output_type": "stream",
       "stream": "stdout",
       "text": [
        "\r",
        "[##-----------------------] 7% Main loop"
       ]
      },
      {
       "output_type": "stream",
       "stream": "stdout",
       "text": [
        "\r",
        "[##-----------------------] 8% Main loop"
       ]
      },
      {
       "output_type": "stream",
       "stream": "stdout",
       "text": [
        "\r",
        "[##-----------------------] 9% Main loop"
       ]
      },
      {
       "output_type": "stream",
       "stream": "stdout",
       "text": [
        "\r",
        "[###----------------------] 10% Main loop"
       ]
      },
      {
       "output_type": "stream",
       "stream": "stdout",
       "text": [
        "\r",
        "[###----------------------] 11% Main loop"
       ]
      },
      {
       "output_type": "stream",
       "stream": "stdout",
       "text": [
        "\r",
        "[###----------------------] 12% Main loop"
       ]
      },
      {
       "output_type": "stream",
       "stream": "stdout",
       "text": [
        "\r",
        "[###----------------------] 13% Main loop"
       ]
      },
      {
       "output_type": "stream",
       "stream": "stdout",
       "text": [
        "\r",
        "[####---------------------] 14% Main loop"
       ]
      },
      {
       "output_type": "stream",
       "stream": "stdout",
       "text": [
        "\r",
        "[####---------------------] 15% Main loop"
       ]
      },
      {
       "output_type": "stream",
       "stream": "stdout",
       "text": [
        "\r",
        "[####---------------------] 16% Main loop"
       ]
      },
      {
       "output_type": "stream",
       "stream": "stdout",
       "text": [
        "\r",
        "[####---------------------] 17% Main loop"
       ]
      },
      {
       "output_type": "stream",
       "stream": "stdout",
       "text": [
        "\r",
        "[#####--------------------] 18% Main loop"
       ]
      },
      {
       "output_type": "stream",
       "stream": "stdout",
       "text": [
        "\r",
        "[#####--------------------] 19% Main loop"
       ]
      },
      {
       "output_type": "stream",
       "stream": "stdout",
       "text": [
        "\r",
        "[#####--------------------] 20% Main loop"
       ]
      },
      {
       "output_type": "stream",
       "stream": "stdout",
       "text": [
        "\r",
        "[#####--------------------] 21% Main loop"
       ]
      },
      {
       "output_type": "stream",
       "stream": "stdout",
       "text": [
        "\r",
        "[######-------------------] 22% Main loop"
       ]
      },
      {
       "output_type": "stream",
       "stream": "stdout",
       "text": [
        "\r",
        "[######-------------------] 23% Main loop"
       ]
      },
      {
       "output_type": "stream",
       "stream": "stdout",
       "text": [
        "\r",
        "[######-------------------] 24% Main loop"
       ]
      },
      {
       "output_type": "stream",
       "stream": "stdout",
       "text": [
        "\r",
        "[######-------------------] 25% Main loop"
       ]
      },
      {
       "output_type": "stream",
       "stream": "stdout",
       "text": [
        "\r",
        "[#######------------------] 26% Main loop"
       ]
      },
      {
       "output_type": "stream",
       "stream": "stdout",
       "text": [
        "\r",
        "[#######------------------] 27% Main loop"
       ]
      },
      {
       "output_type": "stream",
       "stream": "stdout",
       "text": [
        "\r",
        "[#######------------------] 28% Main loop"
       ]
      },
      {
       "output_type": "stream",
       "stream": "stdout",
       "text": [
        "\r",
        "[#######------------------] 29% Main loop"
       ]
      },
      {
       "output_type": "stream",
       "stream": "stdout",
       "text": [
        "\r",
        "[########-----------------] 30% Main loop"
       ]
      },
      {
       "output_type": "stream",
       "stream": "stdout",
       "text": [
        "\r",
        "[########-----------------] 31% Main loop"
       ]
      },
      {
       "output_type": "stream",
       "stream": "stdout",
       "text": [
        "\r",
        "[########-----------------] 32% Main loop"
       ]
      },
      {
       "output_type": "stream",
       "stream": "stdout",
       "text": [
        "\r",
        "[########-----------------] 33% Main loop"
       ]
      },
      {
       "output_type": "stream",
       "stream": "stdout",
       "text": [
        "\r",
        "[#########----------------] 34% Main loop"
       ]
      },
      {
       "output_type": "stream",
       "stream": "stdout",
       "text": [
        "\r",
        "[#########----------------] 35% Main loop"
       ]
      },
      {
       "output_type": "stream",
       "stream": "stdout",
       "text": [
        "\r",
        "[#########----------------] 36% Main loop"
       ]
      },
      {
       "output_type": "stream",
       "stream": "stdout",
       "text": [
        "\r",
        "[#########----------------] 37% Main loop"
       ]
      },
      {
       "output_type": "stream",
       "stream": "stdout",
       "text": [
        "\r",
        "[##########---------------] 38% Main loop"
       ]
      },
      {
       "output_type": "stream",
       "stream": "stdout",
       "text": [
        "\r",
        "[##########---------------] 39% Main loop"
       ]
      },
      {
       "output_type": "stream",
       "stream": "stdout",
       "text": [
        "\r",
        "[##########---------------] 40% Main loop"
       ]
      },
      {
       "output_type": "stream",
       "stream": "stdout",
       "text": [
        "\r",
        "[##########---------------] 41% Main loop"
       ]
      },
      {
       "output_type": "stream",
       "stream": "stdout",
       "text": [
        "\r",
        "[###########--------------] 42% Main loop"
       ]
      },
      {
       "output_type": "stream",
       "stream": "stdout",
       "text": [
        "\r",
        "[###########--------------] 43% Main loop"
       ]
      },
      {
       "output_type": "stream",
       "stream": "stdout",
       "text": [
        "\r",
        "[###########--------------] 44% Main loop"
       ]
      },
      {
       "output_type": "stream",
       "stream": "stdout",
       "text": [
        "\r",
        "[###########--------------] 45% Main loop"
       ]
      },
      {
       "output_type": "stream",
       "stream": "stdout",
       "text": [
        "\r",
        "[############-------------] 46% Main loop"
       ]
      },
      {
       "output_type": "stream",
       "stream": "stdout",
       "text": [
        "\r",
        "[############-------------] 47% Main loop"
       ]
      },
      {
       "output_type": "stream",
       "stream": "stdout",
       "text": [
        "\r",
        "[############-------------] 48% Main loop"
       ]
      },
      {
       "output_type": "stream",
       "stream": "stdout",
       "text": [
        "\r",
        "[############-------------] 49% Main loop"
       ]
      },
      {
       "output_type": "stream",
       "stream": "stdout",
       "text": [
        "\r",
        "[#############------------] 50% Main loop"
       ]
      },
      {
       "output_type": "stream",
       "stream": "stdout",
       "text": [
        "\r",
        "[#############------------] 51% Main loop"
       ]
      },
      {
       "output_type": "stream",
       "stream": "stdout",
       "text": [
        "\r",
        "[#############------------] 52% Main loop"
       ]
      },
      {
       "output_type": "stream",
       "stream": "stdout",
       "text": [
        "\r",
        "[#############------------] 53% Main loop"
       ]
      },
      {
       "output_type": "stream",
       "stream": "stdout",
       "text": [
        "\r",
        "[##############-----------] 54% Main loop"
       ]
      },
      {
       "output_type": "stream",
       "stream": "stdout",
       "text": [
        "\r",
        "[##############-----------] 55% Main loop"
       ]
      },
      {
       "output_type": "stream",
       "stream": "stdout",
       "text": [
        "\r",
        "[##############-----------] 56% Main loop"
       ]
      },
      {
       "output_type": "stream",
       "stream": "stdout",
       "text": [
        "\r",
        "[##############-----------] 57% Main loop"
       ]
      },
      {
       "output_type": "stream",
       "stream": "stdout",
       "text": [
        "\r",
        "[###############----------] 58% Main loop"
       ]
      },
      {
       "output_type": "stream",
       "stream": "stdout",
       "text": [
        "\r",
        "[###############----------] 59% Main loop"
       ]
      },
      {
       "output_type": "stream",
       "stream": "stdout",
       "text": [
        "\r",
        "[###############----------] 60% Main loop"
       ]
      },
      {
       "output_type": "stream",
       "stream": "stdout",
       "text": [
        "\r",
        "[###############----------] 61% Main loop"
       ]
      },
      {
       "output_type": "stream",
       "stream": "stdout",
       "text": [
        "\r",
        "[################---------] 62% Main loop"
       ]
      },
      {
       "output_type": "stream",
       "stream": "stdout",
       "text": [
        "\r",
        "[################---------] 63% Main loop"
       ]
      },
      {
       "output_type": "stream",
       "stream": "stdout",
       "text": [
        "\r",
        "[################---------] 64% Main loop"
       ]
      },
      {
       "output_type": "stream",
       "stream": "stdout",
       "text": [
        "\r",
        "[################---------] 65% Main loop"
       ]
      },
      {
       "output_type": "stream",
       "stream": "stdout",
       "text": [
        "\r",
        "[#################--------] 66% Main loop"
       ]
      },
      {
       "output_type": "stream",
       "stream": "stdout",
       "text": [
        "\r",
        "[#################--------] 67% Main loop"
       ]
      },
      {
       "output_type": "stream",
       "stream": "stdout",
       "text": [
        "\r",
        "[#################--------] 68% Main loop"
       ]
      },
      {
       "output_type": "stream",
       "stream": "stdout",
       "text": [
        "\r",
        "[#################--------] 69% Main loop"
       ]
      },
      {
       "output_type": "stream",
       "stream": "stdout",
       "text": [
        "\r",
        "[##################-------] 70% Main loop"
       ]
      },
      {
       "output_type": "stream",
       "stream": "stdout",
       "text": [
        "\r",
        "[##################-------] 71% Main loop"
       ]
      },
      {
       "output_type": "stream",
       "stream": "stdout",
       "text": [
        "\r",
        "[##################-------] 72% Main loop"
       ]
      },
      {
       "output_type": "stream",
       "stream": "stdout",
       "text": [
        "\r",
        "[##################-------] 73% Main loop"
       ]
      },
      {
       "output_type": "stream",
       "stream": "stdout",
       "text": [
        "\r",
        "[###################------] 74% Main loop"
       ]
      },
      {
       "output_type": "stream",
       "stream": "stdout",
       "text": [
        "\r",
        "[###################------] 75% Main loop"
       ]
      },
      {
       "output_type": "stream",
       "stream": "stdout",
       "text": [
        "\r",
        "[###################------] 76% Main loop"
       ]
      },
      {
       "output_type": "stream",
       "stream": "stdout",
       "text": [
        "\r",
        "[###################------] 77% Main loop"
       ]
      },
      {
       "output_type": "stream",
       "stream": "stdout",
       "text": [
        "\r",
        "[####################-----] 78% Main loop"
       ]
      },
      {
       "output_type": "stream",
       "stream": "stdout",
       "text": [
        "\r",
        "[####################-----] 79% Main loop"
       ]
      },
      {
       "output_type": "stream",
       "stream": "stdout",
       "text": [
        "\r",
        "[####################-----] 80% Main loop"
       ]
      },
      {
       "output_type": "stream",
       "stream": "stdout",
       "text": [
        "\r",
        "[####################-----] 81% Main loop"
       ]
      },
      {
       "output_type": "stream",
       "stream": "stdout",
       "text": [
        "\r",
        "[#####################----] 82% Main loop"
       ]
      },
      {
       "output_type": "stream",
       "stream": "stdout",
       "text": [
        "\r",
        "[#####################----] 83% Main loop"
       ]
      },
      {
       "output_type": "stream",
       "stream": "stdout",
       "text": [
        "\r",
        "[#####################----] 84% Main loop"
       ]
      },
      {
       "output_type": "stream",
       "stream": "stdout",
       "text": [
        "\r",
        "[#####################----] 85% Main loop"
       ]
      },
      {
       "output_type": "stream",
       "stream": "stdout",
       "text": [
        "\r",
        "[######################---] 86% Main loop"
       ]
      },
      {
       "output_type": "stream",
       "stream": "stdout",
       "text": [
        "\r",
        "[######################---] 87% Main loop"
       ]
      },
      {
       "output_type": "stream",
       "stream": "stdout",
       "text": [
        "\r",
        "[######################---] 88% Main loop"
       ]
      },
      {
       "output_type": "stream",
       "stream": "stdout",
       "text": [
        "\r",
        "[######################---] 89% Main loop"
       ]
      },
      {
       "output_type": "stream",
       "stream": "stdout",
       "text": [
        "\r",
        "[#######################--] 90% Main loop"
       ]
      },
      {
       "output_type": "stream",
       "stream": "stdout",
       "text": [
        "\r",
        "[#######################--] 91% Main loop"
       ]
      },
      {
       "output_type": "stream",
       "stream": "stdout",
       "text": [
        "\r",
        "[#######################--] 92% Main loop"
       ]
      },
      {
       "output_type": "stream",
       "stream": "stdout",
       "text": [
        "\r",
        "[#######################--] 93% Main loop"
       ]
      },
      {
       "output_type": "stream",
       "stream": "stdout",
       "text": [
        "\r",
        "[########################-] 94% Main loop"
       ]
      },
      {
       "output_type": "stream",
       "stream": "stdout",
       "text": [
        "\r",
        "[########################-] 95% Main loop"
       ]
      },
      {
       "output_type": "stream",
       "stream": "stdout",
       "text": [
        "\r",
        "[########################-] 96% Main loop"
       ]
      },
      {
       "output_type": "stream",
       "stream": "stdout",
       "text": [
        "\r",
        "[########################-] 97% Main loop"
       ]
      },
      {
       "output_type": "stream",
       "stream": "stdout",
       "text": [
        "\r",
        "[#########################] 98% Main loop"
       ]
      },
      {
       "output_type": "stream",
       "stream": "stdout",
       "text": [
        "\r",
        "[#########################] 99% Main loop"
       ]
      },
      {
       "output_type": "stream",
       "stream": "stdout",
       "text": [
        "\r",
        "[#########################] 100% Main loop"
       ]
      },
      {
       "output_type": "stream",
       "stream": "stdout",
       "text": [
        "\n"
       ]
      },
      {
       "output_type": "stream",
       "stream": "stdout",
       "text": [
        "CPU times: user 2min 50s, sys: 1.23 s, total: 2min 51s\n",
        "Wall time: 2min 52s\n"
       ]
      }
     ],
     "prompt_number": 8
    },
    {
     "cell_type": "code",
     "collapsed": false,
     "input": [
      "map(lambda x:benchmark.get_distance(x.routes, prob.distance_matrix, prob.weights), best_individuals)"
     ],
     "language": "python",
     "metadata": {},
     "outputs": [
      {
       "metadata": {},
       "output_type": "pyout",
       "prompt_number": 9,
       "text": [
        "[1397.8625519451348,\n",
        " 1397.8625519451348,\n",
        " 1397.8625519451348,\n",
        " 1397.8625519451348,\n",
        " 1397.8625519451348,\n",
        " 1397.8625519451348,\n",
        " 1391.6748507544141,\n",
        " 1391.6748507544141,\n",
        " 1391.6748507544141,\n",
        " 1391.6748507544141,\n",
        " 1391.6748507544141,\n",
        " 1391.6748507544141,\n",
        " 1391.6748507544141,\n",
        " 1391.6748507544141,\n",
        " 1383.8063763940886,\n",
        " 1383.8063763940886,\n",
        " 1379.0889204056584,\n",
        " 1379.0889204056584,\n",
        " 1379.0889204056584,\n",
        " 1379.0889204056584,\n",
        " 1379.0889204056584,\n",
        " 1379.0889204056584,\n",
        " 1379.0889204056584,\n",
        " 1379.0889204056584,\n",
        " 1379.0889204056584,\n",
        " 1379.0889204056584,\n",
        " 1379.0889204056584,\n",
        " 1379.0889204056584,\n",
        " 1379.0889204056584,\n",
        " 1379.0889204056584,\n",
        " 1379.0889204056584,\n",
        " 1379.0889204056584,\n",
        " 1379.0889204056584,\n",
        " 1379.0889204056584,\n",
        " 1379.0889204056584,\n",
        " 1379.0889204056584,\n",
        " 1379.0889204056584,\n",
        " 1379.0889204056584,\n",
        " 1379.0889204056584,\n",
        " 1379.0889204056584,\n",
        " 1379.0889204056584,\n",
        " 1379.0889204056584,\n",
        " 1379.0889204056584,\n",
        " 1379.0889204056584,\n",
        " 1379.0889204056584,\n",
        " 1379.0889204056584,\n",
        " 1379.0889204056584,\n",
        " 1379.0889204056584,\n",
        " 1379.0889204056584,\n",
        " 1379.0889204056584,\n",
        " 1379.0889204056584,\n",
        " 1379.0889204056584,\n",
        " 1379.0889204056584,\n",
        " 1379.0889204056584,\n",
        " 1379.0889204056584,\n",
        " 1379.0889204056584,\n",
        " 1379.0889204056584,\n",
        " 1379.0889204056584,\n",
        " 1379.0889204056584,\n",
        " 1379.0889204056584,\n",
        " 1379.0889204056584,\n",
        " 1379.0889204056584,\n",
        " 1379.0889204056584,\n",
        " 1379.0889204056584,\n",
        " 1379.0889204056584,\n",
        " 1379.0889204056584,\n",
        " 1379.0889204056584,\n",
        " 1379.0889204056584,\n",
        " 1379.0889204056584,\n",
        " 1379.0889204056584,\n",
        " 1379.0889204056584,\n",
        " 1379.0889204056584,\n",
        " 1379.0889204056584,\n",
        " 1379.0889204056584,\n",
        " 1379.0889204056584,\n",
        " 1379.0889204056584,\n",
        " 1379.0889204056584,\n",
        " 1379.0889204056584,\n",
        " 1379.0889204056584,\n",
        " 1379.0889204056584,\n",
        " 1379.0889204056584,\n",
        " 1379.0889204056584,\n",
        " 1379.0889204056584,\n",
        " 1379.0889204056584,\n",
        " 1379.0889204056584,\n",
        " 1379.0889204056584,\n",
        " 1379.0889204056584,\n",
        " 1379.0889204056584,\n",
        " 1379.0889204056584,\n",
        " 1379.0889204056584,\n",
        " 1379.0889204056584,\n",
        " 1379.0889204056584,\n",
        " 1379.0889204056584,\n",
        " 1379.0889204056584,\n",
        " 1379.0889204056584,\n",
        " 1379.0889204056584,\n",
        " 1379.0889204056584,\n",
        " 1379.0889204056584,\n",
        " 1379.0889204056584,\n",
        " 1379.0889204056584]"
       ]
      }
     ],
     "prompt_number": 9
    },
    {
     "cell_type": "code",
     "collapsed": false,
     "input": [
      "solution1 = best_individuals[0]\n",
      "solution2 = best_individuals[90]\n",
      "\n",
      "benchmark.print_solution(prob.positions, prob.distance_matrix, prob.weights, solution1.routes)\n",
      "benchmark.print_solution(prob.positions, prob.distance_matrix, prob.weights, solution2.routes)\n",
      "\n",
      "map(lambda x: benchmark.get_distance(x.routes, prob.distance_matrix, prob.weights), best_individuals)"
     ],
     "language": "python",
     "metadata": {},
     "outputs": [
      {
       "metadata": {},
       "output_type": "display_data",
       "png": "[encoded data removed]",
       "text": [
        "<matplotlib.figure.Figure at 0x7f4c46b75b50>"
       ]
      },
      {
       "metadata": {},
       "output_type": "display_data",
       "png": "[encoded data removed]",
       "text": [
        "<matplotlib.figure.Figure at 0x7f4c46f08790>"
       ]
      },
      {
       "metadata": {},
       "output_type": "pyout",
       "prompt_number": 6,
       "text": [
        "[882.97160151856906,\n",
        " 873.87165137046077,\n",
        " 873.87165137046077,\n",
        " 872.84824709009069,\n",
        " 872.84824709009069,\n",
        " 872.57014061253903,\n",
        " 872.57014061253903,\n",
        " 871.1132194645121,\n",
        " 871.1132194645121,\n",
        " 866.13873636707899,\n",
        " 866.13873636707899,\n",
        " 866.13873636707899,\n",
        " 865.75154087927456,\n",
        " 865.75154087927456,\n",
        " 865.75154087927456,\n",
        " 865.75154087927456,\n",
        " 865.75154087927456,\n",
        " 865.75154087927456,\n",
        " 865.75154087927456,\n",
        " 865.75154087927456,\n",
        " 865.75154087927456,\n",
        " 865.75154087927456,\n",
        " 865.75154087927456,\n",
        " 865.75154087927456,\n",
        " 865.75154087927456,\n",
        " 865.75154087927456,\n",
        " 865.75154087927456,\n",
        " 865.75154087927456,\n",
        " 865.75154087927456,\n",
        " 865.75154087927456,\n",
        " 865.75154087927456,\n",
        " 865.75154087927456,\n",
        " 865.75154087927456,\n",
        " 865.75154087927456,\n",
        " 865.75154087927456,\n",
        " 865.75154087927456,\n",
        " 865.75154087927456,\n",
        " 865.75154087927456,\n",
        " 865.75154087927456,\n",
        " 865.75154087927456,\n",
        " 865.75154087927456,\n",
        " 865.75154087927456,\n",
        " 865.75154087927456,\n",
        " 865.75154087927456,\n",
        " 865.75154087927456,\n",
        " 865.75154087927456,\n",
        " 865.75154087927456,\n",
        " 865.75154087927456,\n",
        " 865.75154087927456,\n",
        " 865.75154087927456,\n",
        " 865.75154087927456,\n",
        " 865.75154087927456,\n",
        " 865.75154087927456,\n",
        " 865.75154087927456,\n",
        " 865.75154087927456,\n",
        " 865.75154087927456,\n",
        " 865.75154087927456,\n",
        " 865.75154087927456,\n",
        " 865.75154087927456,\n",
        " 865.75154087927456,\n",
        " 865.75154087927456,\n",
        " 865.75154087927456,\n",
        " 865.75154087927456,\n",
        " 865.75154087927456,\n",
        " 865.75154087927456,\n",
        " 865.75154087927456,\n",
        " 865.75154087927456,\n",
        " 865.75154087927456,\n",
        " 865.75154087927456,\n",
        " 865.75154087927456,\n",
        " 865.75154087927456,\n",
        " 865.75154087927456,\n",
        " 865.75154087927456,\n",
        " 865.75154087927456,\n",
        " 865.75154087927456,\n",
        " 865.75154087927456,\n",
        " 865.75154087927456,\n",
        " 865.75154087927456,\n",
        " 865.75154087927456,\n",
        " 865.75154087927456,\n",
        " 865.75154087927456,\n",
        " 865.75154087927456,\n",
        " 865.75154087927456,\n",
        " 865.75154087927456,\n",
        " 865.75154087927456,\n",
        " 865.75154087927456,\n",
        " 865.75154087927456,\n",
        " 865.75154087927456,\n",
        " 865.75154087927456,\n",
        " 865.75154087927456,\n",
        " 865.75154087927456,\n",
        " 865.75154087927456,\n",
        " 865.75154087927456,\n",
        " 865.75154087927456,\n",
        " 865.75154087927456,\n",
        " 865.75154087927456,\n",
        " 865.75154087927456,\n",
        " 865.75154087927456,\n",
        " 865.75154087927456,\n",
        " 865.75154087927456]"
       ]
      }
     ],
     "prompt_number": 6
    },
    {
     "cell_type": "code",
     "collapsed": false,
     "input": [
      "r1, r2 = ga_solver.find_inherited_routes(solution1, solution2, prob.positions)"
     ],
     "language": "python",
     "metadata": {},
     "outputs": [],
     "prompt_number": 15
    },
    {
     "cell_type": "code",
     "collapsed": false,
     "input": [
      "\n",
      "benchmark.print_solution(prob.positions, prob.distance_matrix, prob.weights, [solution1.routes[i] for i in r1])"
     ],
     "language": "python",
     "metadata": {},
     "outputs": [
      {
       "metadata": {},
       "output_type": "display_data",
       "png": "[encoded data removed]",
       "text": [
        "<matplotlib.figure.Figure at 0x7f007f905fd0>"
       ]
      }
     ],
     "prompt_number": 16
    },
    {
     "cell_type": "code",
     "collapsed": false,
     "input": [
      "print len(solution1.routes)\n",
      "print len(solution2.routes)"
     ],
     "language": "python",
     "metadata": {},
     "outputs": [
      {
       "output_type": "stream",
       "stream": "stdout",
       "text": [
        "8\n",
        "8\n"
       ]
      }
     ],
     "prompt_number": 18
    },
    {
     "cell_type": "code",
     "collapsed": false,
     "input": [
      "benchmark.print_solution(prob.positions, prob.distance_matrix, prob.weights, [solution2.routes[i] for i in r2])"
     ],
     "language": "python",
     "metadata": {},
     "outputs": [
      {
       "metadata": {},
       "output_type": "display_data",
       "png": "[encoded data removed]",
       "text": [
        "<matplotlib.figure.Figure at 0x7f007f27a990>"
       ]
      }
     ],
     "prompt_number": 17
    },
    {
     "cell_type": "code",
     "collapsed": false,
     "input": [
      "\n"
     ],
     "language": "python",
     "metadata": {},
     "outputs": []
    }
   ],
   "metadata": {}
  }
 ]
}