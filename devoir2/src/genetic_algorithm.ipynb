{
 "metadata": {
  "name": "",
  "signature": "sha256:4804b4a8c1c4f17b7c8c513cb89481ebc55219ef37153f94326504286ecc5507"
 },
 "nbformat": 3,
 "nbformat_minor": 0,
 "worksheets": [
  {
   "cells": [
    {
     "cell_type": "code",
     "collapsed": false,
     "input": [
      "%pylab inline\n",
      "import pyximport\n",
      "pyximport.install(reload_support=True)"
     ],
     "language": "python",
     "metadata": {},
     "outputs": [
      {
       "output_type": "stream",
       "stream": "stdout",
       "text": [
        "Populating the interactive namespace from numpy and matplotlib\n"
       ]
      },
      {
       "metadata": {},
       "output_type": "pyout",
       "prompt_number": 3,
       "text": [
        "(None, None)"
       ]
      }
     ],
     "prompt_number": 3
    },
    {
     "cell_type": "code",
     "collapsed": false,
     "input": [
      "#import numpy as np\n",
      "import benchmark\n",
      "import clark_wright\n",
      "import cvrp\n",
      "import ga_solver"
     ],
     "language": "python",
     "metadata": {},
     "outputs": [],
     "prompt_number": 4
    },
    {
     "cell_type": "code",
     "collapsed": false,
     "input": [
      "# get the data\n",
      "data = cvrp.read_vrp(\"../lit_instances/vrpnc12.txt\")\n",
      "prob = cvrp.CVRPProblem(data)\n",
      "prob"
     ],
     "language": "python",
     "metadata": {},
     "outputs": [
      {
       "metadata": {},
       "output_type": "pyout",
       "prompt_number": 15,
       "text": [
        "\n",
        "Constrained Vehicule Routing Problem (CVRP)\n",
        "100 clients, Q = 200.0"
       ]
      }
     ],
     "prompt_number": 15
    },
    {
     "cell_type": "code",
     "collapsed": false,
     "input": [
      "%time final_population, best_individuals = ga_solver.solve(prob, 200, 100)"
     ],
     "language": "python",
     "metadata": {},
     "outputs": [
      {
       "output_type": "stream",
       "stream": "stdout",
       "text": [
        "\r",
        "[-------------------------] 0% Clark & Wright population initialization"
       ]
      },
      {
       "output_type": "stream",
       "stream": "stdout",
       "text": [
        "\r",
        "[-------------------------] 1% Clark & Wright population initialization"
       ]
      },
      {
       "output_type": "stream",
       "stream": "stdout",
       "text": [
        "\r",
        "[-------------------------] 1% Clark & Wright population initialization"
       ]
      },
      {
       "output_type": "stream",
       "stream": "stdout",
       "text": [
        "\r",
        "[-------------------------] 2% Clark & Wright population initialization"
       ]
      },
      {
       "output_type": "stream",
       "stream": "stdout",
       "text": [
        "\r",
        "[#------------------------] 2% Clark & Wright population initialization"
       ]
      },
      {
       "output_type": "stream",
       "stream": "stdout",
       "text": [
        "\r",
        "[#------------------------] 3% Clark & Wright population initialization"
       ]
      },
      {
       "output_type": "stream",
       "stream": "stdout",
       "text": [
        "\r",
        "[#------------------------] 3% Clark & Wright population initialization"
       ]
      },
      {
       "output_type": "stream",
       "stream": "stdout",
       "text": [
        "\r",
        "[#------------------------] 4% Clark & Wright population initialization"
       ]
      },
      {
       "output_type": "stream",
       "stream": "stdout",
       "text": [
        "\r",
        "[#------------------------] 4% Clark & Wright population initialization"
       ]
      },
      {
       "output_type": "stream",
       "stream": "stdout",
       "text": [
        "\r",
        "[#------------------------] 5% Clark & Wright population initialization"
       ]
      },
      {
       "output_type": "stream",
       "stream": "stdout",
       "text": [
        "\r",
        "[#------------------------] 5% Clark & Wright population initialization"
       ]
      },
      {
       "output_type": "stream",
       "stream": "stdout",
       "text": [
        "\r",
        "[#------------------------] 6% Clark & Wright population initialization"
       ]
      },
      {
       "output_type": "stream",
       "stream": "stdout",
       "text": [
        "\r",
        "[##-----------------------] 6% Clark & Wright population initialization"
       ]
      },
      {
       "output_type": "stream",
       "stream": "stdout",
       "text": [
        "\r",
        "[##-----------------------] 7% Clark & Wright population initialization"
       ]
      },
      {
       "output_type": "stream",
       "stream": "stdout",
       "text": [
        "\r",
        "[##-----------------------] 7% Clark & Wright population initialization"
       ]
      },
      {
       "output_type": "stream",
       "stream": "stdout",
       "text": [
        "\r",
        "[##-----------------------] 8% Clark & Wright population initialization"
       ]
      },
      {
       "output_type": "stream",
       "stream": "stdout",
       "text": [
        "\r",
        "[##-----------------------] 8% Clark & Wright population initialization"
       ]
      },
      {
       "output_type": "stream",
       "stream": "stdout",
       "text": [
        "\r",
        "[##-----------------------] 9% Clark & Wright population initialization"
       ]
      },
      {
       "output_type": "stream",
       "stream": "stdout",
       "text": [
        "\r",
        "[##-----------------------] 9% Clark & Wright population initialization"
       ]
      },
      {
       "output_type": "stream",
       "stream": "stdout",
       "text": [
        "\r",
        "[##-----------------------] 10% Clark & Wright population initialization"
       ]
      },
      {
       "output_type": "stream",
       "stream": "stdout",
       "text": [
        "\r",
        "[###----------------------] 10% Clark & Wright population initialization"
       ]
      },
      {
       "output_type": "stream",
       "stream": "stdout",
       "text": [
        "\r",
        "[###----------------------] 11% Clark & Wright population initialization"
       ]
      },
      {
       "output_type": "stream",
       "stream": "stdout",
       "text": [
        "\r",
        "[###----------------------] 11% Clark & Wright population initialization"
       ]
      },
      {
       "output_type": "stream",
       "stream": "stdout",
       "text": [
        "\r",
        "[###----------------------] 12% Clark & Wright population initialization"
       ]
      },
      {
       "output_type": "stream",
       "stream": "stdout",
       "text": [
        "\r",
        "[###----------------------] 12% Clark & Wright population initialization"
       ]
      },
      {
       "output_type": "stream",
       "stream": "stdout",
       "text": [
        "\r",
        "[###----------------------] 13% Clark & Wright population initialization"
       ]
      },
      {
       "output_type": "stream",
       "stream": "stdout",
       "text": [
        "\r",
        "[###----------------------] 13% Clark & Wright population initialization"
       ]
      },
      {
       "output_type": "stream",
       "stream": "stdout",
       "text": [
        "\r",
        "[###----------------------] 14% Clark & Wright population initialization"
       ]
      },
      {
       "output_type": "stream",
       "stream": "stdout",
       "text": [
        "\r",
        "[####---------------------] 14% Clark & Wright population initialization"
       ]
      },
      {
       "output_type": "stream",
       "stream": "stdout",
       "text": [
        "\r",
        "[####---------------------] 15% Clark & Wright population initialization"
       ]
      },
      {
       "output_type": "stream",
       "stream": "stdout",
       "text": [
        "\r",
        "[####---------------------] 15% Clark & Wright population initialization"
       ]
      },
      {
       "output_type": "stream",
       "stream": "stdout",
       "text": [
        "\r",
        "[####---------------------] 16% Clark & Wright population initialization"
       ]
      },
      {
       "output_type": "stream",
       "stream": "stdout",
       "text": [
        "\r",
        "[####---------------------] 16% Clark & Wright population initialization"
       ]
      },
      {
       "output_type": "stream",
       "stream": "stdout",
       "text": [
        "\r",
        "[####---------------------] 17% Clark & Wright population initialization"
       ]
      },
      {
       "output_type": "stream",
       "stream": "stdout",
       "text": [
        "\r",
        "[####---------------------] 17% Clark & Wright population initialization"
       ]
      },
      {
       "output_type": "stream",
       "stream": "stdout",
       "text": [
        "\r",
        "[####---------------------] 18% Clark & Wright population initialization"
       ]
      },
      {
       "output_type": "stream",
       "stream": "stdout",
       "text": [
        "\r",
        "[#####--------------------] 18% Clark & Wright population initialization"
       ]
      },
      {
       "output_type": "stream",
       "stream": "stdout",
       "text": [
        "\r",
        "[#####--------------------] 19% Clark & Wright population initialization"
       ]
      },
      {
       "output_type": "stream",
       "stream": "stdout",
       "text": [
        "\r",
        "[#####--------------------] 19% Clark & Wright population initialization"
       ]
      },
      {
       "output_type": "stream",
       "stream": "stdout",
       "text": [
        "\r",
        "[#####--------------------] 20% Clark & Wright population initialization"
       ]
      },
      {
       "output_type": "stream",
       "stream": "stdout",
       "text": [
        "\r",
        "[#####--------------------] 20% Clark & Wright population initialization"
       ]
      },
      {
       "output_type": "stream",
       "stream": "stdout",
       "text": [
        "\r",
        "[#####--------------------] 21% Clark & Wright population initialization"
       ]
      },
      {
       "output_type": "stream",
       "stream": "stdout",
       "text": [
        "\r",
        "[#####--------------------] 21% Clark & Wright population initialization"
       ]
      },
      {
       "output_type": "stream",
       "stream": "stdout",
       "text": [
        "\r",
        "[#####--------------------] 22% Clark & Wright population initialization"
       ]
      },
      {
       "output_type": "stream",
       "stream": "stdout",
       "text": [
        "\r",
        "[######-------------------] 22% Clark & Wright population initialization"
       ]
      },
      {
       "output_type": "stream",
       "stream": "stdout",
       "text": [
        "\r",
        "[######-------------------] 23% Clark & Wright population initialization"
       ]
      },
      {
       "output_type": "stream",
       "stream": "stdout",
       "text": [
        "\r",
        "[######-------------------] 23% Clark & Wright population initialization"
       ]
      },
      {
       "output_type": "stream",
       "stream": "stdout",
       "text": [
        "\r",
        "[######-------------------] 24% Clark & Wright population initialization"
       ]
      },
      {
       "output_type": "stream",
       "stream": "stdout",
       "text": [
        "\r",
        "[######-------------------] 24% Clark & Wright population initialization"
       ]
      },
      {
       "output_type": "stream",
       "stream": "stdout",
       "text": [
        "\r",
        "[######-------------------] 25% Clark & Wright population initialization"
       ]
      },
      {
       "output_type": "stream",
       "stream": "stdout",
       "text": [
        "\r",
        "[######-------------------] 25% Clark & Wright population initialization"
       ]
      },
      {
       "output_type": "stream",
       "stream": "stdout",
       "text": [
        "\r",
        "[######-------------------] 26% Clark & Wright population initialization"
       ]
      },
      {
       "output_type": "stream",
       "stream": "stdout",
       "text": [
        "\r",
        "[#######------------------] 26% Clark & Wright population initialization"
       ]
      },
      {
       "output_type": "stream",
       "stream": "stdout",
       "text": [
        "\r",
        "[#######------------------] 27% Clark & Wright population initialization"
       ]
      },
      {
       "output_type": "stream",
       "stream": "stdout",
       "text": [
        "\r",
        "[#######------------------] 27% Clark & Wright population initialization"
       ]
      },
      {
       "output_type": "stream",
       "stream": "stdout",
       "text": [
        "\r",
        "[#######------------------] 28% Clark & Wright population initialization"
       ]
      },
      {
       "output_type": "stream",
       "stream": "stdout",
       "text": [
        "\r",
        "[#######------------------] 28% Clark & Wright population initialization"
       ]
      },
      {
       "output_type": "stream",
       "stream": "stdout",
       "text": [
        "\r",
        "[#######------------------] 29% Clark & Wright population initialization"
       ]
      },
      {
       "output_type": "stream",
       "stream": "stdout",
       "text": [
        "\r",
        "[#######------------------] 29% Clark & Wright population initialization"
       ]
      },
      {
       "output_type": "stream",
       "stream": "stdout",
       "text": [
        "\r",
        "[#######------------------] 30% Clark & Wright population initialization"
       ]
      },
      {
       "output_type": "stream",
       "stream": "stdout",
       "text": [
        "\r",
        "[########-----------------] 30% Clark & Wright population initialization"
       ]
      },
      {
       "output_type": "stream",
       "stream": "stdout",
       "text": [
        "\r",
        "[########-----------------] 31% Clark & Wright population initialization"
       ]
      },
      {
       "output_type": "stream",
       "stream": "stdout",
       "text": [
        "\r",
        "[########-----------------] 31% Clark & Wright population initialization"
       ]
      },
      {
       "output_type": "stream",
       "stream": "stdout",
       "text": [
        "\r",
        "[########-----------------] 32% Clark & Wright population initialization"
       ]
      },
      {
       "output_type": "stream",
       "stream": "stdout",
       "text": [
        "\r",
        "[########-----------------] 32% Clark & Wright population initialization"
       ]
      },
      {
       "output_type": "stream",
       "stream": "stdout",
       "text": [
        "\r",
        "[########-----------------] 33% Clark & Wright population initialization"
       ]
      },
      {
       "output_type": "stream",
       "stream": "stdout",
       "text": [
        "\r",
        "[########-----------------] 33% Clark & Wright population initialization"
       ]
      },
      {
       "output_type": "stream",
       "stream": "stdout",
       "text": [
        "\r",
        "[########-----------------] 34% Clark & Wright population initialization"
       ]
      },
      {
       "output_type": "stream",
       "stream": "stdout",
       "text": [
        "\r",
        "[#########----------------] 34% Clark & Wright population initialization"
       ]
      },
      {
       "output_type": "stream",
       "stream": "stdout",
       "text": [
        "\r",
        "[#########----------------] 35% Clark & Wright population initialization"
       ]
      },
      {
       "output_type": "stream",
       "stream": "stdout",
       "text": [
        "\r",
        "[#########----------------] 35% Clark & Wright population initialization"
       ]
      },
      {
       "output_type": "stream",
       "stream": "stdout",
       "text": [
        "\r",
        "[#########----------------] 36% Clark & Wright population initialization"
       ]
      },
      {
       "output_type": "stream",
       "stream": "stdout",
       "text": [
        "\r",
        "[#########----------------] 36% Clark & Wright population initialization"
       ]
      },
      {
       "output_type": "stream",
       "stream": "stdout",
       "text": [
        "\r",
        "[#########----------------] 37% Clark & Wright population initialization"
       ]
      },
      {
       "output_type": "stream",
       "stream": "stdout",
       "text": [
        "\r",
        "[#########----------------] 37% Clark & Wright population initialization"
       ]
      },
      {
       "output_type": "stream",
       "stream": "stdout",
       "text": [
        "\r",
        "[#########----------------] 38% Clark & Wright population initialization"
       ]
      },
      {
       "output_type": "stream",
       "stream": "stdout",
       "text": [
        "\r",
        "[##########---------------] 38% Clark & Wright population initialization"
       ]
      },
      {
       "output_type": "stream",
       "stream": "stdout",
       "text": [
        "\r",
        "[##########---------------] 39% Clark & Wright population initialization"
       ]
      },
      {
       "output_type": "stream",
       "stream": "stdout",
       "text": [
        "\r",
        "[##########---------------] 39% Clark & Wright population initialization"
       ]
      },
      {
       "output_type": "stream",
       "stream": "stdout",
       "text": [
        "\r",
        "[##########---------------] 40% Clark & Wright population initialization"
       ]
      },
      {
       "output_type": "stream",
       "stream": "stdout",
       "text": [
        "\r",
        "[##########---------------] 40% Clark & Wright population initialization"
       ]
      },
      {
       "output_type": "stream",
       "stream": "stdout",
       "text": [
        "\r",
        "[##########---------------] 41% Clark & Wright population initialization"
       ]
      },
      {
       "output_type": "stream",
       "stream": "stdout",
       "text": [
        "\r",
        "[##########---------------] 41% Clark & Wright population initialization"
       ]
      },
      {
       "output_type": "stream",
       "stream": "stdout",
       "text": [
        "\r",
        "[##########---------------] 42% Clark & Wright population initialization"
       ]
      },
      {
       "output_type": "stream",
       "stream": "stdout",
       "text": [
        "\r",
        "[###########--------------] 42% Clark & Wright population initialization"
       ]
      },
      {
       "output_type": "stream",
       "stream": "stdout",
       "text": [
        "\r",
        "[###########--------------] 43% Clark & Wright population initialization"
       ]
      },
      {
       "output_type": "stream",
       "stream": "stdout",
       "text": [
        "\r",
        "[###########--------------] 43% Clark & Wright population initialization"
       ]
      },
      {
       "output_type": "stream",
       "stream": "stdout",
       "text": [
        "\r",
        "[###########--------------] 44% Clark & Wright population initialization"
       ]
      },
      {
       "output_type": "stream",
       "stream": "stdout",
       "text": [
        "\r",
        "[###########--------------] 44% Clark & Wright population initialization"
       ]
      },
      {
       "output_type": "stream",
       "stream": "stdout",
       "text": [
        "\r",
        "[###########--------------] 45% Clark & Wright population initialization"
       ]
      },
      {
       "output_type": "stream",
       "stream": "stdout",
       "text": [
        "\r",
        "[###########--------------] 45% Clark & Wright population initialization"
       ]
      },
      {
       "output_type": "stream",
       "stream": "stdout",
       "text": [
        "\r",
        "[###########--------------] 46% Clark & Wright population initialization"
       ]
      },
      {
       "output_type": "stream",
       "stream": "stdout",
       "text": [
        "\r",
        "[############-------------] 46% Clark & Wright population initialization"
       ]
      },
      {
       "output_type": "stream",
       "stream": "stdout",
       "text": [
        "\r",
        "[############-------------] 47% Clark & Wright population initialization"
       ]
      },
      {
       "output_type": "stream",
       "stream": "stdout",
       "text": [
        "\r",
        "[############-------------] 47% Clark & Wright population initialization"
       ]
      },
      {
       "output_type": "stream",
       "stream": "stdout",
       "text": [
        "\r",
        "[############-------------] 48% Clark & Wright population initialization"
       ]
      },
      {
       "output_type": "stream",
       "stream": "stdout",
       "text": [
        "\r",
        "[############-------------] 48% Clark & Wright population initialization"
       ]
      },
      {
       "output_type": "stream",
       "stream": "stdout",
       "text": [
        "\r",
        "[############-------------] 49% Clark & Wright population initialization"
       ]
      },
      {
       "output_type": "stream",
       "stream": "stdout",
       "text": [
        "\r",
        "[############-------------] 49% Clark & Wright population initialization"
       ]
      },
      {
       "output_type": "stream",
       "stream": "stdout",
       "text": [
        "\r",
        "[#############------------] 50% Clark & Wright population initialization"
       ]
      },
      {
       "output_type": "stream",
       "stream": "stdout",
       "text": [
        "\r",
        "[#############------------] 51% Clark & Wright population initialization"
       ]
      },
      {
       "output_type": "stream",
       "stream": "stdout",
       "text": [
        "\r",
        "[#############------------] 51% Clark & Wright population initialization"
       ]
      },
      {
       "output_type": "stream",
       "stream": "stdout",
       "text": [
        "\r",
        "[#############------------] 52% Clark & Wright population initialization"
       ]
      },
      {
       "output_type": "stream",
       "stream": "stdout",
       "text": [
        "\r",
        "[#############------------] 52% Clark & Wright population initialization"
       ]
      },
      {
       "output_type": "stream",
       "stream": "stdout",
       "text": [
        "\r",
        "[#############------------] 53% Clark & Wright population initialization"
       ]
      },
      {
       "output_type": "stream",
       "stream": "stdout",
       "text": [
        "\r",
        "[#############------------] 53% Clark & Wright population initialization"
       ]
      },
      {
       "output_type": "stream",
       "stream": "stdout",
       "text": [
        "\r",
        "[#############------------] 54% Clark & Wright population initialization"
       ]
      },
      {
       "output_type": "stream",
       "stream": "stdout",
       "text": [
        "\r",
        "[##############-----------] 54% Clark & Wright population initialization"
       ]
      },
      {
       "output_type": "stream",
       "stream": "stdout",
       "text": [
        "\r",
        "[##############-----------] 55% Clark & Wright population initialization"
       ]
      },
      {
       "output_type": "stream",
       "stream": "stdout",
       "text": [
        "\r",
        "[##############-----------] 55% Clark & Wright population initialization"
       ]
      },
      {
       "output_type": "stream",
       "stream": "stdout",
       "text": [
        "\r",
        "[##############-----------] 56% Clark & Wright population initialization"
       ]
      },
      {
       "output_type": "stream",
       "stream": "stdout",
       "text": [
        "\r",
        "[##############-----------] 56% Clark & Wright population initialization"
       ]
      },
      {
       "output_type": "stream",
       "stream": "stdout",
       "text": [
        "\r",
        "[##############-----------] 57% Clark & Wright population initialization"
       ]
      },
      {
       "output_type": "stream",
       "stream": "stdout",
       "text": [
        "\r",
        "[##############-----------] 57% Clark & Wright population initialization"
       ]
      },
      {
       "output_type": "stream",
       "stream": "stdout",
       "text": [
        "\r",
        "[##############-----------] 58% Clark & Wright population initialization"
       ]
      },
      {
       "output_type": "stream",
       "stream": "stdout",
       "text": [
        "\r",
        "[###############----------] 58% Clark & Wright population initialization"
       ]
      },
      {
       "output_type": "stream",
       "stream": "stdout",
       "text": [
        "\r",
        "[###############----------] 59% Clark & Wright population initialization"
       ]
      },
      {
       "output_type": "stream",
       "stream": "stdout",
       "text": [
        "\r",
        "[###############----------] 59% Clark & Wright population initialization"
       ]
      },
      {
       "output_type": "stream",
       "stream": "stdout",
       "text": [
        "\r",
        "[###############----------] 60% Clark & Wright population initialization"
       ]
      },
      {
       "output_type": "stream",
       "stream": "stdout",
       "text": [
        "\r",
        "[###############----------] 60% Clark & Wright population initialization"
       ]
      },
      {
       "output_type": "stream",
       "stream": "stdout",
       "text": [
        "\r",
        "[###############----------] 61% Clark & Wright population initialization"
       ]
      },
      {
       "output_type": "stream",
       "stream": "stdout",
       "text": [
        "\r",
        "[###############----------] 61% Clark & Wright population initialization"
       ]
      },
      {
       "output_type": "stream",
       "stream": "stdout",
       "text": [
        "\r",
        "[###############----------] 62% Clark & Wright population initialization"
       ]
      },
      {
       "output_type": "stream",
       "stream": "stdout",
       "text": [
        "\r",
        "[################---------] 62% Clark & Wright population initialization"
       ]
      },
      {
       "output_type": "stream",
       "stream": "stdout",
       "text": [
        "\r",
        "[################---------] 63% Clark & Wright population initialization"
       ]
      },
      {
       "output_type": "stream",
       "stream": "stdout",
       "text": [
        "\r",
        "[################---------] 63% Clark & Wright population initialization"
       ]
      },
      {
       "output_type": "stream",
       "stream": "stdout",
       "text": [
        "\r",
        "[################---------] 64% Clark & Wright population initialization"
       ]
      },
      {
       "output_type": "stream",
       "stream": "stdout",
       "text": [
        "\r",
        "[################---------] 64% Clark & Wright population initialization"
       ]
      },
      {
       "output_type": "stream",
       "stream": "stdout",
       "text": [
        "\r",
        "[################---------] 65% Clark & Wright population initialization"
       ]
      },
      {
       "output_type": "stream",
       "stream": "stdout",
       "text": [
        "\r",
        "[################---------] 65% Clark & Wright population initialization"
       ]
      },
      {
       "output_type": "stream",
       "stream": "stdout",
       "text": [
        "\r",
        "[################---------] 66% Clark & Wright population initialization"
       ]
      },
      {
       "output_type": "stream",
       "stream": "stdout",
       "text": [
        "\r",
        "[#################--------] 66% Clark & Wright population initialization"
       ]
      },
      {
       "output_type": "stream",
       "stream": "stdout",
       "text": [
        "\r",
        "[#################--------] 67% Clark & Wright population initialization"
       ]
      },
      {
       "output_type": "stream",
       "stream": "stdout",
       "text": [
        "\r",
        "[#################--------] 67% Clark & Wright population initialization"
       ]
      },
      {
       "output_type": "stream",
       "stream": "stdout",
       "text": [
        "\r",
        "[#################--------] 68% Clark & Wright population initialization"
       ]
      },
      {
       "output_type": "stream",
       "stream": "stdout",
       "text": [
        "\r",
        "[#################--------] 68% Clark & Wright population initialization"
       ]
      },
      {
       "output_type": "stream",
       "stream": "stdout",
       "text": [
        "\r",
        "[#################--------] 69% Clark & Wright population initialization"
       ]
      },
      {
       "output_type": "stream",
       "stream": "stdout",
       "text": [
        "\r",
        "[#################--------] 69% Clark & Wright population initialization"
       ]
      },
      {
       "output_type": "stream",
       "stream": "stdout",
       "text": [
        "\r",
        "[#################--------] 70% Clark & Wright population initialization"
       ]
      },
      {
       "output_type": "stream",
       "stream": "stdout",
       "text": [
        "\r",
        "[##################-------] 70% Clark & Wright population initialization"
       ]
      },
      {
       "output_type": "stream",
       "stream": "stdout",
       "text": [
        "\r",
        "[##################-------] 71% Clark & Wright population initialization"
       ]
      },
      {
       "output_type": "stream",
       "stream": "stdout",
       "text": [
        "\r",
        "[##################-------] 71% Clark & Wright population initialization"
       ]
      },
      {
       "output_type": "stream",
       "stream": "stdout",
       "text": [
        "\r",
        "[##################-------] 72% Clark & Wright population initialization"
       ]
      },
      {
       "output_type": "stream",
       "stream": "stdout",
       "text": [
        "\r",
        "[##################-------] 72% Clark & Wright population initialization"
       ]
      },
      {
       "output_type": "stream",
       "stream": "stdout",
       "text": [
        "\r",
        "[##################-------] 73% Clark & Wright population initialization"
       ]
      },
      {
       "output_type": "stream",
       "stream": "stdout",
       "text": [
        "\r",
        "[##################-------] 73% Clark & Wright population initialization"
       ]
      },
      {
       "output_type": "stream",
       "stream": "stdout",
       "text": [
        "\r",
        "[##################-------] 74% Clark & Wright population initialization"
       ]
      },
      {
       "output_type": "stream",
       "stream": "stdout",
       "text": [
        "\r",
        "[###################------] 74% Clark & Wright population initialization"
       ]
      },
      {
       "output_type": "stream",
       "stream": "stdout",
       "text": [
        "\r",
        "[###################------] 75% Clark & Wright population initialization"
       ]
      },
      {
       "output_type": "stream",
       "stream": "stdout",
       "text": [
        "\r",
        "[###################------] 75% Clark & Wright population initialization"
       ]
      },
      {
       "output_type": "stream",
       "stream": "stdout",
       "text": [
        "\r",
        "[###################------] 76% Clark & Wright population initialization"
       ]
      },
      {
       "output_type": "stream",
       "stream": "stdout",
       "text": [
        "\r",
        "[###################------] 76% Clark & Wright population initialization"
       ]
      },
      {
       "output_type": "stream",
       "stream": "stdout",
       "text": [
        "\r",
        "[###################------] 77% Clark & Wright population initialization"
       ]
      },
      {
       "output_type": "stream",
       "stream": "stdout",
       "text": [
        "\r",
        "[###################------] 77% Clark & Wright population initialization"
       ]
      },
      {
       "output_type": "stream",
       "stream": "stdout",
       "text": [
        "\r",
        "[###################------] 78% Clark & Wright population initialization"
       ]
      },
      {
       "output_type": "stream",
       "stream": "stdout",
       "text": [
        "\r",
        "[####################-----] 78% Clark & Wright population initialization"
       ]
      },
      {
       "output_type": "stream",
       "stream": "stdout",
       "text": [
        "\r",
        "[####################-----] 79% Clark & Wright population initialization"
       ]
      },
      {
       "output_type": "stream",
       "stream": "stdout",
       "text": [
        "\r",
        "[####################-----] 79% Clark & Wright population initialization"
       ]
      },
      {
       "output_type": "stream",
       "stream": "stdout",
       "text": [
        "\r",
        "[####################-----] 80% Clark & Wright population initialization"
       ]
      },
      {
       "output_type": "stream",
       "stream": "stdout",
       "text": [
        "\r",
        "[####################-----] 80% Clark & Wright population initialization"
       ]
      },
      {
       "output_type": "stream",
       "stream": "stdout",
       "text": [
        "\r",
        "[####################-----] 81% Clark & Wright population initialization"
       ]
      },
      {
       "output_type": "stream",
       "stream": "stdout",
       "text": [
        "\r",
        "[####################-----] 81% Clark & Wright population initialization"
       ]
      },
      {
       "output_type": "stream",
       "stream": "stdout",
       "text": [
        "\r",
        "[####################-----] 82% Clark & Wright population initialization"
       ]
      },
      {
       "output_type": "stream",
       "stream": "stdout",
       "text": [
        "\r",
        "[#####################----] 82% Clark & Wright population initialization"
       ]
      },
      {
       "output_type": "stream",
       "stream": "stdout",
       "text": [
        "\r",
        "[#####################----] 83% Clark & Wright population initialization"
       ]
      },
      {
       "output_type": "stream",
       "stream": "stdout",
       "text": [
        "\r",
        "[#####################----] 83% Clark & Wright population initialization"
       ]
      },
      {
       "output_type": "stream",
       "stream": "stdout",
       "text": [
        "\r",
        "[#####################----] 84% Clark & Wright population initialization"
       ]
      },
      {
       "output_type": "stream",
       "stream": "stdout",
       "text": [
        "\r",
        "[#####################----] 84% Clark & Wright population initialization"
       ]
      },
      {
       "output_type": "stream",
       "stream": "stdout",
       "text": [
        "\r",
        "[#####################----] 85% Clark & Wright population initialization"
       ]
      },
      {
       "output_type": "stream",
       "stream": "stdout",
       "text": [
        "\r",
        "[#####################----] 85% Clark & Wright population initialization"
       ]
      },
      {
       "output_type": "stream",
       "stream": "stdout",
       "text": [
        "\r",
        "[#####################----] 86% Clark & Wright population initialization"
       ]
      },
      {
       "output_type": "stream",
       "stream": "stdout",
       "text": [
        "\r",
        "[######################---] 86% Clark & Wright population initialization"
       ]
      },
      {
       "output_type": "stream",
       "stream": "stdout",
       "text": [
        "\r",
        "[######################---] 87% Clark & Wright population initialization"
       ]
      },
      {
       "output_type": "stream",
       "stream": "stdout",
       "text": [
        "\r",
        "[######################---] 87% Clark & Wright population initialization"
       ]
      },
      {
       "output_type": "stream",
       "stream": "stdout",
       "text": [
        "\r",
        "[######################---] 88% Clark & Wright population initialization"
       ]
      },
      {
       "output_type": "stream",
       "stream": "stdout",
       "text": [
        "\r",
        "[######################---] 88% Clark & Wright population initialization"
       ]
      },
      {
       "output_type": "stream",
       "stream": "stdout",
       "text": [
        "\r",
        "[######################---] 89% Clark & Wright population initialization"
       ]
      },
      {
       "output_type": "stream",
       "stream": "stdout",
       "text": [
        "\r",
        "[######################---] 89% Clark & Wright population initialization"
       ]
      },
      {
       "output_type": "stream",
       "stream": "stdout",
       "text": [
        "\r",
        "[######################---] 90% Clark & Wright population initialization"
       ]
      },
      {
       "output_type": "stream",
       "stream": "stdout",
       "text": [
        "\r",
        "[#######################--] 90% Clark & Wright population initialization"
       ]
      },
      {
       "output_type": "stream",
       "stream": "stdout",
       "text": [
        "\r",
        "[#######################--] 91% Clark & Wright population initialization"
       ]
      },
      {
       "output_type": "stream",
       "stream": "stdout",
       "text": [
        "\r",
        "[#######################--] 91% Clark & Wright population initialization"
       ]
      },
      {
       "output_type": "stream",
       "stream": "stdout",
       "text": [
        "\r",
        "[#######################--] 92% Clark & Wright population initialization"
       ]
      },
      {
       "output_type": "stream",
       "stream": "stdout",
       "text": [
        "\r",
        "[#######################--] 92% Clark & Wright population initialization"
       ]
      },
      {
       "output_type": "stream",
       "stream": "stdout",
       "text": [
        "\r",
        "[#######################--] 93% Clark & Wright population initialization"
       ]
      },
      {
       "output_type": "stream",
       "stream": "stdout",
       "text": [
        "\r",
        "[#######################--] 93% Clark & Wright population initialization"
       ]
      },
      {
       "output_type": "stream",
       "stream": "stdout",
       "text": [
        "\r",
        "[#######################--] 94% Clark & Wright population initialization"
       ]
      },
      {
       "output_type": "stream",
       "stream": "stdout",
       "text": [
        "\r",
        "[########################-] 94% Clark & Wright population initialization"
       ]
      },
      {
       "output_type": "stream",
       "stream": "stdout",
       "text": [
        "\r",
        "[########################-] 95% Clark & Wright population initialization"
       ]
      },
      {
       "output_type": "stream",
       "stream": "stdout",
       "text": [
        "\r",
        "[########################-] 95% Clark & Wright population initialization"
       ]
      },
      {
       "output_type": "stream",
       "stream": "stdout",
       "text": [
        "\r",
        "[########################-] 96% Clark & Wright population initialization"
       ]
      },
      {
       "output_type": "stream",
       "stream": "stdout",
       "text": [
        "\r",
        "[########################-] 96% Clark & Wright population initialization"
       ]
      },
      {
       "output_type": "stream",
       "stream": "stdout",
       "text": [
        "\r",
        "[########################-] 97% Clark & Wright population initialization"
       ]
      },
      {
       "output_type": "stream",
       "stream": "stdout",
       "text": [
        "\r",
        "[########################-] 97% Clark & Wright population initialization"
       ]
      },
      {
       "output_type": "stream",
       "stream": "stdout",
       "text": [
        "\r",
        "[########################-] 98% Clark & Wright population initialization"
       ]
      },
      {
       "output_type": "stream",
       "stream": "stdout",
       "text": [
        "\r",
        "[#########################] 98% Clark & Wright population initialization"
       ]
      },
      {
       "output_type": "stream",
       "stream": "stdout",
       "text": [
        "\r",
        "[#########################] 99% Clark & Wright population initialization"
       ]
      },
      {
       "output_type": "stream",
       "stream": "stdout",
       "text": [
        "\r",
        "[#########################] 99% Clark & Wright population initialization"
       ]
      },
      {
       "output_type": "stream",
       "stream": "stdout",
       "text": [
        "\r",
        "[#########################] 100% Clark & Wright population initialization"
       ]
      },
      {
       "output_type": "stream",
       "stream": "stdout",
       "text": [
        "\n"
       ]
      },
      {
       "output_type": "stream",
       "stream": "stdout",
       "text": [
        "\r",
        "[-------------------------] 1% genetic algorithm"
       ]
      },
      {
       "output_type": "stream",
       "stream": "stdout",
       "text": [
        "\r",
        "[#------------------------] 2% genetic algorithm"
       ]
      },
      {
       "output_type": "stream",
       "stream": "stdout",
       "text": [
        "\r",
        "[#------------------------] 3% genetic algorithm"
       ]
      },
      {
       "output_type": "stream",
       "stream": "stdout",
       "text": [
        "\r",
        "[#------------------------] 4% genetic algorithm"
       ]
      },
      {
       "output_type": "stream",
       "stream": "stdout",
       "text": [
        "\r",
        "[#------------------------] 5% genetic algorithm"
       ]
      },
      {
       "output_type": "stream",
       "stream": "stdout",
       "text": [
        "\r",
        "[##-----------------------] 6% genetic algorithm"
       ]
      },
      {
       "output_type": "stream",
       "stream": "stdout",
       "text": [
        "\r",
        "[##-----------------------] 7% genetic algorithm"
       ]
      },
      {
       "output_type": "stream",
       "stream": "stdout",
       "text": [
        "\r",
        "[##-----------------------] 8% genetic algorithm"
       ]
      },
      {
       "output_type": "stream",
       "stream": "stdout",
       "text": [
        "\r",
        "[##-----------------------] 9% genetic algorithm"
       ]
      },
      {
       "output_type": "stream",
       "stream": "stdout",
       "text": [
        "\r",
        "[###----------------------] 10% genetic algorithm"
       ]
      },
      {
       "output_type": "stream",
       "stream": "stdout",
       "text": [
        "\r",
        "[###----------------------] 11% genetic algorithm"
       ]
      },
      {
       "output_type": "stream",
       "stream": "stdout",
       "text": [
        "\r",
        "[###----------------------] 12% genetic algorithm"
       ]
      },
      {
       "output_type": "stream",
       "stream": "stdout",
       "text": [
        "\r",
        "[###----------------------] 13% genetic algorithm"
       ]
      },
      {
       "output_type": "stream",
       "stream": "stdout",
       "text": [
        "\r",
        "[####---------------------] 14% genetic algorithm"
       ]
      },
      {
       "output_type": "stream",
       "stream": "stdout",
       "text": [
        "\r",
        "[####---------------------] 15% genetic algorithm"
       ]
      },
      {
       "output_type": "stream",
       "stream": "stdout",
       "text": [
        "\r",
        "[####---------------------] 16% genetic algorithm"
       ]
      },
      {
       "output_type": "stream",
       "stream": "stdout",
       "text": [
        "\r",
        "[####---------------------] 17% genetic algorithm"
       ]
      },
      {
       "output_type": "stream",
       "stream": "stdout",
       "text": [
        "\r",
        "[#####--------------------] 18% genetic algorithm"
       ]
      },
      {
       "output_type": "stream",
       "stream": "stdout",
       "text": [
        "\r",
        "[#####--------------------] 19% genetic algorithm"
       ]
      },
      {
       "output_type": "stream",
       "stream": "stdout",
       "text": [
        "\r",
        "[#####--------------------] 20% genetic algorithm"
       ]
      },
      {
       "output_type": "stream",
       "stream": "stdout",
       "text": [
        "\r",
        "[#####--------------------] 21% genetic algorithm"
       ]
      },
      {
       "output_type": "stream",
       "stream": "stdout",
       "text": [
        "\r",
        "[######-------------------] 22% genetic algorithm"
       ]
      },
      {
       "output_type": "stream",
       "stream": "stdout",
       "text": [
        "\r",
        "[######-------------------] 23% genetic algorithm"
       ]
      },
      {
       "output_type": "stream",
       "stream": "stdout",
       "text": [
        "\r",
        "[######-------------------] 24% genetic algorithm"
       ]
      },
      {
       "output_type": "stream",
       "stream": "stdout",
       "text": [
        "\r",
        "[######-------------------] 25% genetic algorithm"
       ]
      },
      {
       "output_type": "stream",
       "stream": "stdout",
       "text": [
        "\r",
        "[#######------------------] 26% genetic algorithm"
       ]
      },
      {
       "output_type": "stream",
       "stream": "stdout",
       "text": [
        "\r",
        "[#######------------------] 27% genetic algorithm"
       ]
      },
      {
       "output_type": "stream",
       "stream": "stdout",
       "text": [
        "\r",
        "[#######------------------] 28% genetic algorithm"
       ]
      },
      {
       "output_type": "stream",
       "stream": "stdout",
       "text": [
        "\r",
        "[#######------------------] 29% genetic algorithm"
       ]
      },
      {
       "output_type": "stream",
       "stream": "stdout",
       "text": [
        "\r",
        "[########-----------------] 30% genetic algorithm"
       ]
      },
      {
       "output_type": "stream",
       "stream": "stdout",
       "text": [
        "\r",
        "[########-----------------] 31% genetic algorithm"
       ]
      },
      {
       "output_type": "stream",
       "stream": "stdout",
       "text": [
        "\r",
        "[########-----------------] 32% genetic algorithm"
       ]
      },
      {
       "output_type": "stream",
       "stream": "stdout",
       "text": [
        "\r",
        "[########-----------------] 33% genetic algorithm"
       ]
      },
      {
       "output_type": "stream",
       "stream": "stdout",
       "text": [
        "\r",
        "[#########----------------] 34% genetic algorithm"
       ]
      },
      {
       "output_type": "stream",
       "stream": "stdout",
       "text": [
        "\r",
        "[#########----------------] 35% genetic algorithm"
       ]
      },
      {
       "output_type": "stream",
       "stream": "stdout",
       "text": [
        "\r",
        "[#########----------------] 36% genetic algorithm"
       ]
      },
      {
       "output_type": "stream",
       "stream": "stdout",
       "text": [
        "\r",
        "[#########----------------] 37% genetic algorithm"
       ]
      },
      {
       "output_type": "stream",
       "stream": "stdout",
       "text": [
        "\r",
        "[##########---------------] 38% genetic algorithm"
       ]
      },
      {
       "output_type": "stream",
       "stream": "stdout",
       "text": [
        "\r",
        "[##########---------------] 39% genetic algorithm"
       ]
      },
      {
       "output_type": "stream",
       "stream": "stdout",
       "text": [
        "\r",
        "[##########---------------] 40% genetic algorithm"
       ]
      },
      {
       "output_type": "stream",
       "stream": "stdout",
       "text": [
        "\r",
        "[##########---------------] 41% genetic algorithm"
       ]
      },
      {
       "output_type": "stream",
       "stream": "stdout",
       "text": [
        "\r",
        "[###########--------------] 42% genetic algorithm"
       ]
      },
      {
       "output_type": "stream",
       "stream": "stdout",
       "text": [
        "\r",
        "[###########--------------] 43% genetic algorithm"
       ]
      },
      {
       "output_type": "stream",
       "stream": "stdout",
       "text": [
        "\r",
        "[###########--------------] 44% genetic algorithm"
       ]
      },
      {
       "output_type": "stream",
       "stream": "stdout",
       "text": [
        "\r",
        "[###########--------------] 45% genetic algorithm"
       ]
      },
      {
       "output_type": "stream",
       "stream": "stdout",
       "text": [
        "\r",
        "[############-------------] 46% genetic algorithm"
       ]
      },
      {
       "output_type": "stream",
       "stream": "stdout",
       "text": [
        "\r",
        "[############-------------] 47% genetic algorithm"
       ]
      },
      {
       "output_type": "stream",
       "stream": "stdout",
       "text": [
        "\r",
        "[############-------------] 48% genetic algorithm"
       ]
      },
      {
       "output_type": "stream",
       "stream": "stdout",
       "text": [
        "\r",
        "[############-------------] 49% genetic algorithm"
       ]
      },
      {
       "output_type": "stream",
       "stream": "stdout",
       "text": [
        "\r",
        "[#############------------] 50% genetic algorithm"
       ]
      },
      {
       "output_type": "stream",
       "stream": "stdout",
       "text": [
        "\r",
        "[#############------------] 51% genetic algorithm"
       ]
      },
      {
       "output_type": "stream",
       "stream": "stdout",
       "text": [
        "\r",
        "[#############------------] 52% genetic algorithm"
       ]
      },
      {
       "output_type": "stream",
       "stream": "stdout",
       "text": [
        "\r",
        "[#############------------] 53% genetic algorithm"
       ]
      },
      {
       "output_type": "stream",
       "stream": "stdout",
       "text": [
        "\r",
        "[##############-----------] 54% genetic algorithm"
       ]
      },
      {
       "output_type": "stream",
       "stream": "stdout",
       "text": [
        "\r",
        "[##############-----------] 55% genetic algorithm"
       ]
      },
      {
       "output_type": "stream",
       "stream": "stdout",
       "text": [
        "\r",
        "[##############-----------] 56% genetic algorithm"
       ]
      },
      {
       "output_type": "stream",
       "stream": "stdout",
       "text": [
        "\r",
        "[##############-----------] 57% genetic algorithm"
       ]
      },
      {
       "output_type": "stream",
       "stream": "stdout",
       "text": [
        "\r",
        "[###############----------] 58% genetic algorithm"
       ]
      },
      {
       "output_type": "stream",
       "stream": "stdout",
       "text": [
        "\r",
        "[###############----------] 59% genetic algorithm"
       ]
      },
      {
       "output_type": "stream",
       "stream": "stdout",
       "text": [
        "\r",
        "[###############----------] 60% genetic algorithm"
       ]
      },
      {
       "output_type": "stream",
       "stream": "stdout",
       "text": [
        "\r",
        "[###############----------] 61% genetic algorithm"
       ]
      },
      {
       "output_type": "stream",
       "stream": "stdout",
       "text": [
        "\r",
        "[################---------] 62% genetic algorithm"
       ]
      },
      {
       "output_type": "stream",
       "stream": "stdout",
       "text": [
        "\r",
        "[################---------] 63% genetic algorithm"
       ]
      },
      {
       "output_type": "stream",
       "stream": "stdout",
       "text": [
        "\r",
        "[################---------] 64% genetic algorithm"
       ]
      },
      {
       "output_type": "stream",
       "stream": "stdout",
       "text": [
        "\r",
        "[################---------] 65% genetic algorithm"
       ]
      },
      {
       "output_type": "stream",
       "stream": "stdout",
       "text": [
        "\r",
        "[#################--------] 66% genetic algorithm"
       ]
      },
      {
       "output_type": "stream",
       "stream": "stdout",
       "text": [
        "\r",
        "[#################--------] 67% genetic algorithm"
       ]
      },
      {
       "output_type": "stream",
       "stream": "stdout",
       "text": [
        "\r",
        "[#################--------] 68% genetic algorithm"
       ]
      },
      {
       "output_type": "stream",
       "stream": "stdout",
       "text": [
        "\r",
        "[#################--------] 69% genetic algorithm"
       ]
      },
      {
       "output_type": "stream",
       "stream": "stdout",
       "text": [
        "\r",
        "[##################-------] 70% genetic algorithm"
       ]
      },
      {
       "output_type": "stream",
       "stream": "stdout",
       "text": [
        "\r",
        "[##################-------] 71% genetic algorithm"
       ]
      },
      {
       "output_type": "stream",
       "stream": "stdout",
       "text": [
        "\r",
        "[##################-------] 72% genetic algorithm"
       ]
      },
      {
       "output_type": "stream",
       "stream": "stdout",
       "text": [
        "\r",
        "[##################-------] 73% genetic algorithm"
       ]
      },
      {
       "output_type": "stream",
       "stream": "stdout",
       "text": [
        "\r",
        "[###################------] 74% genetic algorithm"
       ]
      },
      {
       "output_type": "stream",
       "stream": "stdout",
       "text": [
        "\r",
        "[###################------] 75% genetic algorithm"
       ]
      },
      {
       "output_type": "stream",
       "stream": "stdout",
       "text": [
        "\r",
        "[###################------] 76% genetic algorithm"
       ]
      },
      {
       "output_type": "stream",
       "stream": "stdout",
       "text": [
        "\r",
        "[###################------] 77% genetic algorithm"
       ]
      },
      {
       "output_type": "stream",
       "stream": "stdout",
       "text": [
        "\r",
        "[####################-----] 78% genetic algorithm"
       ]
      },
      {
       "output_type": "stream",
       "stream": "stdout",
       "text": [
        "\r",
        "[####################-----] 79% genetic algorithm"
       ]
      },
      {
       "output_type": "stream",
       "stream": "stdout",
       "text": [
        "\r",
        "[####################-----] 80% genetic algorithm"
       ]
      },
      {
       "output_type": "stream",
       "stream": "stdout",
       "text": [
        "\r",
        "[####################-----] 81% genetic algorithm"
       ]
      },
      {
       "output_type": "stream",
       "stream": "stdout",
       "text": [
        "\r",
        "[#####################----] 82% genetic algorithm"
       ]
      },
      {
       "output_type": "stream",
       "stream": "stdout",
       "text": [
        "\r",
        "[#####################----] 83% genetic algorithm"
       ]
      },
      {
       "output_type": "stream",
       "stream": "stdout",
       "text": [
        "\r",
        "[#####################----] 84% genetic algorithm"
       ]
      },
      {
       "output_type": "stream",
       "stream": "stdout",
       "text": [
        "\r",
        "[#####################----] 85% genetic algorithm"
       ]
      },
      {
       "output_type": "stream",
       "stream": "stdout",
       "text": [
        "\r",
        "[######################---] 86% genetic algorithm"
       ]
      },
      {
       "output_type": "stream",
       "stream": "stdout",
       "text": [
        "\r",
        "[######################---] 87% genetic algorithm"
       ]
      },
      {
       "output_type": "stream",
       "stream": "stdout",
       "text": [
        "\r",
        "[######################---] 88% genetic algorithm"
       ]
      },
      {
       "output_type": "stream",
       "stream": "stdout",
       "text": [
        "\r",
        "[######################---] 89% genetic algorithm"
       ]
      },
      {
       "output_type": "stream",
       "stream": "stdout",
       "text": [
        "\r",
        "[#######################--] 90% genetic algorithm"
       ]
      },
      {
       "output_type": "stream",
       "stream": "stdout",
       "text": [
        "\r",
        "[#######################--] 91% genetic algorithm"
       ]
      },
      {
       "output_type": "stream",
       "stream": "stdout",
       "text": [
        "\r",
        "[#######################--] 92% genetic algorithm"
       ]
      },
      {
       "output_type": "stream",
       "stream": "stdout",
       "text": [
        "\r",
        "[#######################--] 93% genetic algorithm"
       ]
      },
      {
       "output_type": "stream",
       "stream": "stdout",
       "text": [
        "\r",
        "[########################-] 94% genetic algorithm"
       ]
      },
      {
       "output_type": "stream",
       "stream": "stdout",
       "text": [
        "\r",
        "[########################-] 95% genetic algorithm"
       ]
      },
      {
       "output_type": "stream",
       "stream": "stdout",
       "text": [
        "\r",
        "[########################-] 96% genetic algorithm"
       ]
      },
      {
       "output_type": "stream",
       "stream": "stdout",
       "text": [
        "\r",
        "[########################-] 97% genetic algorithm"
       ]
      },
      {
       "output_type": "stream",
       "stream": "stdout",
       "text": [
        "\r",
        "[#########################] 98% genetic algorithm"
       ]
      },
      {
       "output_type": "stream",
       "stream": "stdout",
       "text": [
        "\r",
        "[#########################] 99% genetic algorithm"
       ]
      },
      {
       "output_type": "stream",
       "stream": "stdout",
       "text": [
        "\r",
        "[#########################] 100% genetic algorithm"
       ]
      },
      {
       "output_type": "stream",
       "stream": "stdout",
       "text": [
        "\n"
       ]
      },
      {
       "output_type": "stream",
       "stream": "stdout",
       "text": [
        "CPU times: user 1min 38s, sys: 212 ms, total: 1min 38s\n",
        "Wall time: 1min 38s\n"
       ]
      }
     ],
     "prompt_number": 16
    },
    {
     "cell_type": "code",
     "collapsed": false,
     "input": [
      "# vrpnc4 + random cw brbax\n",
      "# best random choice = 1107\n",
      "# best choice brbax+cw = 1068"
     ],
     "language": "python",
     "metadata": {},
     "outputs": [
      {
       "metadata": {},
       "output_type": "pyout",
       "prompt_number": 12,
       "text": [
        "\n",
        "Constrained Vehicule Routing Problem (CVRP)\n",
        "150 clients, Q = 200.0"
       ]
      }
     ],
     "prompt_number": 12
    },
    {
     "cell_type": "code",
     "collapsed": false,
     "input": [
      "scores = map(lambda x:x.score, best_individuals)\n",
      "scores"
     ],
     "language": "python",
     "metadata": {},
     "outputs": [
      {
       "metadata": {},
       "output_type": "pyout",
       "prompt_number": 17,
       "text": [
        "[833.8785969944295,\n",
        " 833.8785969944295,\n",
        " 833.8785969944295,\n",
        " 833.8785969944295,\n",
        " 833.8785969944295,\n",
        " 833.8785969944295,\n",
        " 833.7444794527005,\n",
        " 832.6734116408352,\n",
        " 832.6734116408352,\n",
        " 832.6734116408352,\n",
        " 832.6734116408352,\n",
        " 832.6734116408352,\n",
        " 832.6734116408352,\n",
        " 832.6734116408352,\n",
        " 832.6734116408352,\n",
        " 832.6734116408352,\n",
        " 832.6734116408352,\n",
        " 831.7629536676322,\n",
        " 827.6004692436045,\n",
        " 827.6004692436045,\n",
        " 827.6004692436045,\n",
        " 827.6004692436045,\n",
        " 827.6004692436045,\n",
        " 827.6004692436045,\n",
        " 827.6004692436045,\n",
        " 827.6004692436045,\n",
        " 827.6004692436045,\n",
        " 827.6004692436045,\n",
        " 827.6004692436045,\n",
        " 827.6004692436045,\n",
        " 827.6004692436045,\n",
        " 827.6004692436045,\n",
        " 827.6004692436045,\n",
        " 827.6004692436045,\n",
        " 827.6004692436045,\n",
        " 827.6004692436045,\n",
        " 827.6004692436045,\n",
        " 827.6004692436045,\n",
        " 827.6004692436045,\n",
        " 827.6004692436045,\n",
        " 827.6004692436045,\n",
        " 826.3976778906372,\n",
        " 826.3976778906372,\n",
        " 826.3976778906372,\n",
        " 826.3976778906372,\n",
        " 826.3976778906372,\n",
        " 826.3976778906372,\n",
        " 826.3976778906372,\n",
        " 826.3976778906372,\n",
        " 826.3976778906372,\n",
        " 826.3976778906372,\n",
        " 826.3976778906372,\n",
        " 826.3976778906372,\n",
        " 826.3976778906372,\n",
        " 826.3976778906372,\n",
        " 826.3976778906372,\n",
        " 826.3976778906372,\n",
        " 826.3976778906372,\n",
        " 826.3976778906372,\n",
        " 826.3976778906372,\n",
        " 826.3976778906372,\n",
        " 826.3976778906372,\n",
        " 826.3976778906372,\n",
        " 826.3976778906372,\n",
        " 826.3976778906372,\n",
        " 826.3976778906372,\n",
        " 826.3976778906372,\n",
        " 826.3976778906372,\n",
        " 826.3976778906372,\n",
        " 826.3976778906372,\n",
        " 826.3976778906372,\n",
        " 826.3976778906372,\n",
        " 826.3976778906372,\n",
        " 826.3976778906372,\n",
        " 826.3976778906372,\n",
        " 826.3976778906372,\n",
        " 826.3976778906372,\n",
        " 826.3976778906372,\n",
        " 826.3976778906372,\n",
        " 826.3976778906372,\n",
        " 826.3976778906372,\n",
        " 826.3976778906372,\n",
        " 826.3976778906372,\n",
        " 826.3976778906372,\n",
        " 826.3976778906372,\n",
        " 826.3976778906372,\n",
        " 826.3976778906372,\n",
        " 826.3976778906372,\n",
        " 826.3976778906372,\n",
        " 826.3976778906372,\n",
        " 826.3976778906372,\n",
        " 826.3976778906372,\n",
        " 826.3976778906372,\n",
        " 826.3976778906372,\n",
        " 826.3976778906372,\n",
        " 826.3976778906372,\n",
        " 826.3976778906372,\n",
        " 826.3976778906372,\n",
        " 826.3976778906372,\n",
        " 826.3976778906372]"
       ]
      }
     ],
     "prompt_number": 17
    },
    {
     "cell_type": "code",
     "collapsed": false,
     "input": [
      "benchmark.print_solution(prob.positions, prob.distance_matrix, prob.weights, best_individuals[np.argmin(scores)].routes)"
     ],
     "language": "python",
     "metadata": {},
     "outputs": [
      {
       "metadata": {},
       "output_type": "display_data",
       "png": "[encoded data removed]",
       "text": [
        "<matplotlib.figure.Figure at 0x7ff3105b5e50>"
       ]
      }
     ],
     "prompt_number": 18
    },
    {
     "cell_type": "code",
     "collapsed": false,
     "input": [
      "map(lambda x: x.score, final_population)"
     ],
     "language": "python",
     "metadata": {},
     "outputs": [
      {
       "metadata": {},
       "output_type": "pyout",
       "prompt_number": 19,
       "text": [
        "[826.3976778906372,\n",
        " 826.3976778906372,\n",
        " -1.0,\n",
        " -1.0,\n",
        " -1.0,\n",
        " -1.0,\n",
        " 826.3976778906372,\n",
        " 826.3976778906372,\n",
        " -1.0,\n",
        " -1.0,\n",
        " -1.0,\n",
        " -1.0,\n",
        " -1.0,\n",
        " -1.0,\n",
        " -1.0,\n",
        " 826.3976778906372,\n",
        " 826.3976778906372,\n",
        " -1.0,\n",
        " -1.0,\n",
        " -1.0,\n",
        " -1.0,\n",
        " 826.3976778906372,\n",
        " -1.0,\n",
        " -1.0,\n",
        " 826.3976778906372,\n",
        " -1.0,\n",
        " 826.3976778906372,\n",
        " -1.0,\n",
        " -1.0,\n",
        " -1.0,\n",
        " -1.0,\n",
        " -1.0,\n",
        " 826.3976778906372,\n",
        " 826.3976778906372,\n",
        " -1.0,\n",
        " -1.0,\n",
        " 826.3976778906372,\n",
        " 826.3976778906372,\n",
        " -1.0,\n",
        " 826.3976778906372,\n",
        " 826.3976778906372,\n",
        " 826.3976778906372,\n",
        " -1.0,\n",
        " 826.3976778906372,\n",
        " 826.3976778906372,\n",
        " 826.3976778906372,\n",
        " 826.3976778906372,\n",
        " -1.0,\n",
        " -1.0,\n",
        " 826.3976778906372,\n",
        " -1.0,\n",
        " 826.3976778906372,\n",
        " -1.0,\n",
        " 826.3976778906372,\n",
        " -1.0,\n",
        " -1.0,\n",
        " 826.3976778906372,\n",
        " -1.0,\n",
        " 826.3976778906372,\n",
        " 826.3976778906372,\n",
        " -1.0,\n",
        " -1.0,\n",
        " -1.0,\n",
        " -1.0,\n",
        " -1.0,\n",
        " -1.0,\n",
        " -1.0,\n",
        " -1.0,\n",
        " -1.0,\n",
        " 826.3976778906372,\n",
        " -1.0,\n",
        " 826.3976778906372,\n",
        " -1.0,\n",
        " -1.0,\n",
        " 826.3976778906372,\n",
        " 826.3976778906372,\n",
        " -1.0,\n",
        " 826.3976778906372,\n",
        " -1.0,\n",
        " -1.0,\n",
        " -1.0,\n",
        " 826.3976778906372,\n",
        " 826.3976778906372,\n",
        " 826.3976778906372,\n",
        " -1.0,\n",
        " 826.3976778906372,\n",
        " -1.0,\n",
        " 826.3976778906372,\n",
        " 826.3976778906372,\n",
        " 826.3976778906372,\n",
        " 826.3976778906372,\n",
        " -1.0,\n",
        " -1.0,\n",
        " -1.0,\n",
        " -1.0,\n",
        " -1.0,\n",
        " -1.0,\n",
        " -1.0,\n",
        " -1.0,\n",
        " -1.0,\n",
        " 826.3976778906372,\n",
        " -1.0,\n",
        " 826.3976778906372,\n",
        " 826.3976778906372,\n",
        " -1.0,\n",
        " -1.0,\n",
        " -1.0,\n",
        " -1.0,\n",
        " -1.0,\n",
        " -1.0,\n",
        " 826.3976778906372,\n",
        " -1.0,\n",
        " -1.0,\n",
        " -1.0,\n",
        " 826.3976778906372,\n",
        " 875.7263982940865,\n",
        " -1.0,\n",
        " -1.0,\n",
        " -1.0,\n",
        " 826.3976778906372,\n",
        " -1.0,\n",
        " -1.0,\n",
        " 826.3976778906372,\n",
        " 826.3976778906372,\n",
        " 826.3976778906372,\n",
        " -1.0,\n",
        " -1.0,\n",
        " 826.3976778906372,\n",
        " -1.0,\n",
        " 826.3976778906372,\n",
        " 826.3976778906372,\n",
        " -1.0,\n",
        " 826.3976778906372,\n",
        " 826.3976778906372,\n",
        " -1.0,\n",
        " -1.0,\n",
        " -1.0,\n",
        " -1.0,\n",
        " -1.0,\n",
        " -1.0,\n",
        " -1.0,\n",
        " 905.4325170906125,\n",
        " 826.3976778906372,\n",
        " 826.3976778906372,\n",
        " -1.0,\n",
        " -1.0,\n",
        " -1.0,\n",
        " 826.3976778906372,\n",
        " 826.3976778906372,\n",
        " 826.3976778906372,\n",
        " -1.0,\n",
        " -1.0,\n",
        " -1.0,\n",
        " -1.0,\n",
        " -1.0,\n",
        " 826.3976778906372,\n",
        " -1.0,\n",
        " 826.3976778906372,\n",
        " -1.0,\n",
        " -1.0,\n",
        " -1.0,\n",
        " -1.0,\n",
        " -1.0,\n",
        " -1.0,\n",
        " -1.0,\n",
        " -1.0,\n",
        " -1.0,\n",
        " -1.0,\n",
        " 826.3976778906372,\n",
        " 826.3976778906372,\n",
        " -1.0,\n",
        " -1.0,\n",
        " -1.0,\n",
        " 826.3976778906372,\n",
        " -1.0,\n",
        " -1.0,\n",
        " -1.0,\n",
        " -1.0,\n",
        " 826.3976778906372,\n",
        " -1.0,\n",
        " -1.0,\n",
        " -1.0,\n",
        " -1.0,\n",
        " -1.0,\n",
        " -1.0,\n",
        " -1.0,\n",
        " -1.0,\n",
        " -1.0,\n",
        " 826.3976778906372,\n",
        " -1.0,\n",
        " 826.3976778906372,\n",
        " -1.0,\n",
        " -1.0,\n",
        " -1.0,\n",
        " -1.0,\n",
        " -1.0,\n",
        " -1.0,\n",
        " -1.0,\n",
        " -1.0,\n",
        " -1.0]"
       ]
      }
     ],
     "prompt_number": 19
    },
    {
     "cell_type": "code",
     "collapsed": false,
     "input": [
      "# let's see the decrease of the best scores\n",
      "plt.figure(figsize=(15,10))\n",
      "plt.plot(map(lambda x: np.log(x.score), best_individuals), color='black')\n",
      "plt.ylabel(\"log(score)\")\n",
      "plt.xlabel(\"generation\")\n",
      "plt.title(\"score of the best individual for each generation\")\n",
      "plt.show()"
     ],
     "language": "python",
     "metadata": {},
     "outputs": [
      {
       "metadata": {},
       "output_type": "display_data",
       "png": "[encoded data removed]",
       "text": [
        "<matplotlib.figure.Figure at 0x7f587aab58d0>"
       ]
      }
     ],
     "prompt_number": 14
    },
    {
     "cell_type": "code",
     "collapsed": false,
     "input": [],
     "language": "python",
     "metadata": {},
     "outputs": [],
     "prompt_number": 6
    },
    {
     "cell_type": "code",
     "collapsed": false,
     "input": [],
     "language": "python",
     "metadata": {},
     "outputs": [
      {
       "metadata": {},
       "output_type": "display_data",
       "png": "[encoded data removed]",
       "text": [
        "<matplotlib.figure.Figure at 0x7f587bbac510>"
       ]
      }
     ],
     "prompt_number": 7
    }
   ],
   "metadata": {}
  }
 ]
}