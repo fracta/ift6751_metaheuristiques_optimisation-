{
 "metadata": {
  "name": "",
  "signature": "sha256:74ff5fbb637febff700e23b3e0a1d48b2eba2155df43eb5a13bd94bd54fe8d05"
 },
 "nbformat": 3,
 "nbformat_minor": 0,
 "worksheets": [
  {
   "cells": [
    {
     "cell_type": "code",
     "collapsed": false,
     "input": [],
     "language": "python",
     "metadata": {},
     "outputs": []
    }
   ],
   "metadata": {}
  }
 ]
}